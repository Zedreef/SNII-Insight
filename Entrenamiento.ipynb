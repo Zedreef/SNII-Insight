{
 "cells": [
  {
   "cell_type": "code",
   "execution_count": 4,
   "id": "a748eeaa",
   "metadata": {},
   "outputs": [],
   "source": [
    "import dask.dataframe as dd"
   ]
  },
  {
   "cell_type": "code",
   "execution_count": 6,
   "id": "cafe12f0",
   "metadata": {},
   "outputs": [],
   "source": [
    "# Leemos el archivo csv\n",
    "df = dd.read_csv('./Nombres_PxS.csv')"
   ]
  },
  {
   "cell_type": "code",
   "execution_count": 8,
   "id": "053a07c5",
   "metadata": {},
   "outputs": [],
   "source": [
    "# Vemos que columnas tiene el dataframe\n",
    "df.columns\n",
    "# eliminamos 'Ratio'\n",
    "df = df.drop(columns=['Ratio'])"
   ]
  }
 ],
 "metadata": {
  "kernelspec": {
   "display_name": "PT_entorno",
   "language": "python",
   "name": "python3"
  },
  "language_info": {
   "codemirror_mode": {
    "name": "ipython",
    "version": 3
   },
   "file_extension": ".py",
   "mimetype": "text/x-python",
   "name": "python",
   "nbconvert_exporter": "python",
   "pygments_lexer": "ipython3",
   "version": "3.10.5"
  }
 },
 "nbformat": 4,
 "nbformat_minor": 5
}
