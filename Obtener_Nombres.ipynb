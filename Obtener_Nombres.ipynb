{
 "cells": [
  {
   "cell_type": "code",
   "execution_count": 1,
   "metadata": {},
   "outputs": [],
   "source": [
    "import pandas as pd\n",
    "from rapidfuzz import process, fuzz\n",
    "from tqdm import tqdm\n",
    "from joblib import Parallel, delayed\n",
    "\n",
    "# Cargar datasets\n",
    "df_datasetF = pd.read_csv(\"Nombres_Limpios_Final.csv\")\n",
    "df_inventor = pd.read_csv(\"listaNombres.csv\")"
   ]
  },
  {
   "cell_type": "markdown",
   "metadata": {},
   "source": [
    "Se trabajaron los nombres de las patentes y los del SNII a manera de lista para un rápido análisis. Ya que son `57,186` nombres contra `11,890` y comparar todos los nombres serian en total `679,941,540`."
   ]
  },
  {
   "cell_type": "code",
   "execution_count": 2,
   "metadata": {},
   "outputs": [],
   "source": [
    "# convertimos todas las letras en mayusculas en el dt_inventor\n",
    "df_inventor['NOMBRE_INVENTOR'] = df_inventor['NOMBRE_INVENTOR'].str.upper()\n",
    "\n",
    "# Convertir la columna NOMBRE DEL INVESTIGADOR a una lista para búsquedas más rápidas\n",
    "investigadores_list = df_datasetF[\"NOMBRE DEL INVESTIGADOR\"].tolist()\n",
    "\n",
    "# convertimos la columna 'NOMBRE_INVENTOR' a una lista para búsquedas más rápidas\n",
    "inventores_list = df_inventor[\"NOMBRE_INVENTOR\"].tolist()"
   ]
  },
  {
   "cell_type": "code",
   "execution_count": 3,
   "metadata": {},
   "outputs": [],
   "source": [
    "# Definir el umbral para considerar que dos nombres son similares\n",
    "umbral = 90"
   ]
  },
  {
   "cell_type": "code",
   "execution_count": 4,
   "metadata": {},
   "outputs": [
    {
     "name": "stderr",
     "output_type": "stream",
     "text": [
      "Procesando inventores: 100%|██████████| 11890/11890 [14:32<00:00, 13.62it/s]\n"
     ]
    }
   ],
   "source": [
    "def comparar_con_extract(inventores_list, investigadores_list):\n",
    "    matches = process.extract(\n",
    "        inventores_list,\n",
    "        investigadores_list,\n",
    "        scorer=fuzz.token_set_ratio,\n",
    "        score_cutoff=umbral\n",
    "    )\n",
    "    # matches: lista de tuplas (nombre_investigador, ratio, index)\n",
    "    return [{\n",
    "        \"NOMBRE DEL INVESTIGADOR\": inventores_list,\n",
    "        \"NOMBRE_INVENTOR\": match[0],\n",
    "        \"Ratio\": match[1]\n",
    "    } for match in matches]\n",
    "\n",
    "# Procesar en paralelo cada registro de inventores usando la función extract\n",
    "resultados = Parallel(n_jobs=-1)(\n",
    "    delayed(comparar_con_extract)(inventores_list, investigadores_list)\n",
    "    for inventores_list in tqdm(inventores_list, total=len(inventores_list), desc=\"Procesando inventores\")\n",
    ")\n",
    "\n",
    "# Aplanar la lista de listas de resultados\n",
    "resultados = [item for sublista in resultados for item in sublista]\n",
    "\n",
    "# Convertir la lista a DataFrame y guardar los resultados\n",
    "df_resultados = pd.DataFrame(resultados)"
   ]
  },
  {
   "cell_type": "markdown",
   "metadata": {},
   "source": [
    "En esta tabla vemos cuantas veces se repite un nombre para algún dato de la lista de las patentes."
   ]
  },
  {
   "cell_type": "code",
   "execution_count": 5,
   "metadata": {},
   "outputs": [
    {
     "data": {
      "application/vnd.microsoft.datawrangler.viewer.v0+json": {
       "columns": [
        {
         "name": "index",
         "rawType": "int64",
         "type": "integer"
        },
        {
         "name": "NOMBRE DEL INVESTIGADOR",
         "rawType": "object",
         "type": "string"
        },
        {
         "name": "count",
         "rawType": "int64",
         "type": "integer"
        }
       ],
       "conversionMethod": "pd.DataFrame",
       "ref": "bf8b82d2-d0d1-456f-a8cc-40bf93557c5d",
       "rows": [
        [
         "0",
         "LOPEZ,CARLOS A",
         "5"
        ],
        [
         "1",
         "CRUZ,JUAN",
         "5"
        ],
        [
         "2",
         "RODRIGUEZ,OSCAR",
         "5"
        ],
        [
         "3",
         "E HERNANDEZ,PEDRO",
         "5"
        ],
        [
         "4",
         "ANGEL HERNANDEZ,MIGUEL",
         "5"
        ],
        [
         "5",
         "A DIAZ,JOSE",
         "5"
        ],
        [
         "6",
         "PEREZ,ALEJANDRO",
         "5"
        ],
        [
         "7",
         "HERNANDEZ,JUAN",
         "5"
        ],
        [
         "8",
         "SANCHEZ,MARCO",
         "5"
        ],
        [
         "9",
         "A GONZALEZ,CESAR",
         "5"
        ],
        [
         "10",
         "A MARTINEZ,JUAN",
         "5"
        ],
        [
         "11",
         "GONZALEZ,FERNANDO",
         "5"
        ],
        [
         "12",
         "MARTINEZ,EDUARDO",
         "5"
        ],
        [
         "13",
         "GARCIA,MARIA L",
         "5"
        ],
        [
         "14",
         "G MARTINEZ,HECTOR",
         "5"
        ],
        [
         "15",
         "SANCHEZ,JAVIER",
         "5"
        ],
        [
         "16",
         "VEGA,CARLOS",
         "5"
        ],
        [
         "17",
         "SANCHEZ,FRANCISCO",
         "5"
        ],
        [
         "18",
         "A GARCIA,JOSE",
         "5"
        ],
        [
         "19",
         "GARCIA,FERNANDO F",
         "5"
        ],
        [
         "20",
         "LUIS HERNANDEZ,JOSE",
         "5"
        ],
        [
         "21",
         "FLORES,JOSE LUIS",
         "5"
        ],
        [
         "22",
         "SANCHEZ,HECTOR",
         "5"
        ],
        [
         "23",
         "MARTINEZ,ALFREDO",
         "5"
        ],
        [
         "24",
         "PEREZ,JORGE",
         "5"
        ],
        [
         "25",
         "VEGA,JOSE L",
         "5"
        ],
        [
         "26",
         "LOPEZ,HECTOR",
         "5"
        ],
        [
         "27",
         "GONZALEZ,RICARDO E",
         "5"
        ],
        [
         "28",
         "GARCIA,SALVADOR",
         "5"
        ],
        [
         "29",
         "FLORES,JOSE",
         "5"
        ],
        [
         "30",
         "GONZALEZ,GUILLERMO",
         "5"
        ],
        [
         "31",
         "GARCIA,FELIPE",
         "5"
        ],
        [
         "32",
         "GOMEZ,ALEJANDRO",
         "5"
        ],
        [
         "33",
         "DE LEON,FRANCISCO",
         "5"
        ],
        [
         "34",
         "GUTIERREZ,LUIS",
         "5"
        ],
        [
         "35",
         "HERNANDEZ,PEDRO",
         "5"
        ],
        [
         "36",
         "MARTINEZ,JUAN A",
         "5"
        ],
        [
         "37",
         "HERNANDEZ,MIGUEL",
         "5"
        ],
        [
         "38",
         "PEREZ,JOSE",
         "5"
        ],
        [
         "39",
         "PEREZ,CLAUDIA",
         "5"
        ],
        [
         "40",
         "SANCHEZ,LUIS A",
         "5"
        ],
        [
         "41",
         "LOPEZ,MIGUEL",
         "5"
        ],
        [
         "42",
         "VAZQUEZ,LUIS",
         "5"
        ],
        [
         "43",
         "GONZALEZ,JOSE",
         "5"
        ],
        [
         "44",
         "RUIZ,LUIS J",
         "5"
        ],
        [
         "45",
         "GARCIA,CARLOS",
         "5"
        ],
        [
         "46",
         "SANCHEZ,CARLOS",
         "5"
        ],
        [
         "47",
         "VAZQUEZ,OSCAR",
         "5"
        ],
        [
         "48",
         "RUIZ,CARLOS",
         "5"
        ],
        [
         "49",
         "GARCIA,MIGUEL",
         "5"
        ]
       ],
       "shape": {
        "columns": 2,
        "rows": 1624
       }
      },
      "text/html": [
       "<div>\n",
       "<style scoped>\n",
       "    .dataframe tbody tr th:only-of-type {\n",
       "        vertical-align: middle;\n",
       "    }\n",
       "\n",
       "    .dataframe tbody tr th {\n",
       "        vertical-align: top;\n",
       "    }\n",
       "\n",
       "    .dataframe thead th {\n",
       "        text-align: right;\n",
       "    }\n",
       "</style>\n",
       "<table border=\"1\" class=\"dataframe\">\n",
       "  <thead>\n",
       "    <tr style=\"text-align: right;\">\n",
       "      <th></th>\n",
       "      <th>NOMBRE DEL INVESTIGADOR</th>\n",
       "      <th>count</th>\n",
       "    </tr>\n",
       "  </thead>\n",
       "  <tbody>\n",
       "    <tr>\n",
       "      <th>0</th>\n",
       "      <td>LOPEZ,CARLOS A</td>\n",
       "      <td>5</td>\n",
       "    </tr>\n",
       "    <tr>\n",
       "      <th>1</th>\n",
       "      <td>CRUZ,JUAN</td>\n",
       "      <td>5</td>\n",
       "    </tr>\n",
       "    <tr>\n",
       "      <th>2</th>\n",
       "      <td>RODRIGUEZ,OSCAR</td>\n",
       "      <td>5</td>\n",
       "    </tr>\n",
       "    <tr>\n",
       "      <th>3</th>\n",
       "      <td>E HERNANDEZ,PEDRO</td>\n",
       "      <td>5</td>\n",
       "    </tr>\n",
       "    <tr>\n",
       "      <th>4</th>\n",
       "      <td>ANGEL HERNANDEZ,MIGUEL</td>\n",
       "      <td>5</td>\n",
       "    </tr>\n",
       "    <tr>\n",
       "      <th>...</th>\n",
       "      <td>...</td>\n",
       "      <td>...</td>\n",
       "    </tr>\n",
       "    <tr>\n",
       "      <th>1619</th>\n",
       "      <td>LOPEZ CERVANTES,JAIME</td>\n",
       "      <td>1</td>\n",
       "    </tr>\n",
       "    <tr>\n",
       "      <th>1620</th>\n",
       "      <td>M QUINTANA,JUAN</td>\n",
       "      <td>1</td>\n",
       "    </tr>\n",
       "    <tr>\n",
       "      <th>1621</th>\n",
       "      <td>A VEGA,JUAN MANUEL</td>\n",
       "      <td>1</td>\n",
       "    </tr>\n",
       "    <tr>\n",
       "      <th>1622</th>\n",
       "      <td>RAFAEL HERRERA ESTRELLA,LUIS</td>\n",
       "      <td>1</td>\n",
       "    </tr>\n",
       "    <tr>\n",
       "      <th>1623</th>\n",
       "      <td>FLORES SANCHEZ,PATRICIA</td>\n",
       "      <td>1</td>\n",
       "    </tr>\n",
       "  </tbody>\n",
       "</table>\n",
       "<p>1624 rows × 2 columns</p>\n",
       "</div>"
      ],
      "text/plain": [
       "           NOMBRE DEL INVESTIGADOR  count\n",
       "0                   LOPEZ,CARLOS A      5\n",
       "1                        CRUZ,JUAN      5\n",
       "2                  RODRIGUEZ,OSCAR      5\n",
       "3                E HERNANDEZ,PEDRO      5\n",
       "4           ANGEL HERNANDEZ,MIGUEL      5\n",
       "...                            ...    ...\n",
       "1619         LOPEZ CERVANTES,JAIME      1\n",
       "1620               M QUINTANA,JUAN      1\n",
       "1621            A VEGA,JUAN MANUEL      1\n",
       "1622  RAFAEL HERRERA ESTRELLA,LUIS      1\n",
       "1623       FLORES SANCHEZ,PATRICIA      1\n",
       "\n",
       "[1624 rows x 2 columns]"
      ]
     },
     "execution_count": 5,
     "metadata": {},
     "output_type": "execute_result"
    }
   ],
   "source": [
    "table = df_resultados['NOMBRE DEL INVESTIGADOR'].value_counts().reset_index()\n",
    "table"
   ]
  },
  {
   "cell_type": "markdown",
   "metadata": {},
   "source": [
    "Aca es solamente para ver datos únicos y darme una idea de cuantos datos se podrían esperar en un caso optimo donde si se encontraron datos que coinciden con su nombres."
   ]
  },
  {
   "cell_type": "code",
   "execution_count": 6,
   "metadata": {},
   "outputs": [
    {
     "data": {
      "text/plain": [
       "count               2955\n",
       "unique              1624\n",
       "top       LOPEZ,CARLOS A\n",
       "freq                   5\n",
       "Name: NOMBRE DEL INVESTIGADOR, dtype: object"
      ]
     },
     "execution_count": 6,
     "metadata": {},
     "output_type": "execute_result"
    }
   ],
   "source": [
    "table1 = df_resultados['NOMBRE DEL INVESTIGADOR'].describe()\n",
    "table1"
   ]
  },
  {
   "cell_type": "markdown",
   "metadata": {},
   "source": [
    "Eliminamos datos conforme a esta reglas en el dataframe 'df_resultados'\n",
    "- Si el nombre en 'NOMBRE DEL INVESTIGADOR' , el primer apellido con el que empieza, no es igual al del la columna 'NOMBRE_INVENTOR', se elimina. Ejemplo\n",
    "    - MARTINEZ,ALFREDO -> MARTINEZ\n",
    "    - RUIZ MARTINEZ,ALFREDO -> RUIZ\n",
    "\n",
    "No son iguales por lo que se eliminan estos registros\n",
    "\n",
    "- Si el nombre en 'NOMBRE DEL INVESTIGADOR', el primer nombre con el que empieza, no es igual al de la columna 'NOMBRE_INVENTOR', se elimina. Ejemplo\n",
    "    - RODRIGUEZ HERNANDEZ,ANDREA -> ANDREA\n",
    "    - RODRIGUEZ HERNANDEZ,ANNIA -> ANNIA"
   ]
  },
  {
   "cell_type": "code",
   "execution_count": 7,
   "metadata": {},
   "outputs": [],
   "source": [
    "df_resultados1 = df_resultados[\n",
    "    (df_resultados['NOMBRE DEL INVESTIGADOR'].str.split().str[0] == df_resultados['NOMBRE_INVENTOR'].str.split().str[0]) &\n",
    "    (df_resultados['NOMBRE DEL INVESTIGADOR'].str.split(',').str[1] == df_resultados['NOMBRE_INVENTOR'].str.split(',').str[1])\n",
    "]"
   ]
  },
  {
   "cell_type": "code",
   "execution_count": 8,
   "metadata": {},
   "outputs": [
    {
     "data": {
      "application/vnd.microsoft.datawrangler.viewer.v0+json": {
       "columns": [
        {
         "name": "index",
         "rawType": "int64",
         "type": "integer"
        },
        {
         "name": "NOMBRE DEL INVESTIGADOR",
         "rawType": "object",
         "type": "string"
        },
        {
         "name": "count",
         "rawType": "int64",
         "type": "integer"
        }
       ],
       "conversionMethod": "pd.DataFrame",
       "ref": "cc66c5c8-5d67-411e-b979-a7b9dafb7283",
       "rows": [
        [
         "0",
         "HERNANDEZ MAYA,ROBERTO CARLOS",
         "2"
        ],
        [
         "1",
         "SANCHEZ VALENTE,JAIME",
         "2"
        ],
        [
         "2",
         "FLORES SANDOVAL,CESAR ANDRES",
         "2"
        ],
        [
         "3",
         "POSSANI POSTAY,LOURIVAL DOMINGOS",
         "2"
        ],
        [
         "4",
         "LOPEZ SERRANO RAMOS,FRANCISCO",
         "2"
        ],
        [
         "5",
         "MIRANDA OLVERA,ALMA DELIA",
         "1"
        ],
        [
         "6",
         "FLORES SANCHEZ,PATRICIA",
         "1"
        ],
        [
         "7",
         "ABURTO ANELL,JORGE ARTURO",
         "1"
        ],
        [
         "8",
         "REYES VIDAL,MARIA YOLANDA",
         "1"
        ],
        [
         "9",
         "MARIN CRUZ,JESUS",
         "1"
        ],
        [
         "10",
         "VEGA PAZ,ARACELI",
         "1"
        ],
        [
         "11",
         "MONTIEL SANCHEZ,LUISA ELENA",
         "1"
        ],
        [
         "12",
         "MARTINEZ PALOU,RAFAEL",
         "1"
        ],
        [
         "13",
         "QUEJ AKE,LUIS MANUEL",
         "1"
        ],
        [
         "14",
         "SANCHEZ GARCIA,VERONICA",
         "1"
        ],
        [
         "15",
         "BENITEZ AGUILAR,JOSE LUIS RODOLFO",
         "1"
        ],
        [
         "16",
         "CASTILLO CERVANTES,SALVADOR",
         "1"
        ],
        [
         "17",
         "HERNANDEZ GONZALEZ,GUILLERMO",
         "1"
        ],
        [
         "18",
         "MEJIA CENTENO,ISIDRO",
         "1"
        ],
        [
         "19",
         "VARGAS ESCUDERO,ALFREDO",
         "1"
        ],
        [
         "20",
         "MORAN PINEDA,FLORENCIA MARINA",
         "1"
        ],
        [
         "21",
         "CAMPOSECO SOLIS,ROBERTO",
         "1"
        ],
        [
         "22",
         "NAVARRETE BOLANOS,JUAN",
         "1"
        ],
        [
         "23",
         "GOMEZ RAMIREZ,MARLENNE",
         "1"
        ],
        [
         "24",
         "GARCIA DE LEON,ROBERTO",
         "1"
        ],
        [
         "25",
         "ROJAS AVELIZAPA,NORMA GABRIELA",
         "1"
        ],
        [
         "26",
         "HERNANDEZ GAMA,REGINA",
         "1"
        ],
        [
         "27",
         "SANCHEZ GARCIA,SERGIO",
         "1"
        ],
        [
         "28",
         "VILLANUEVA PONCE,RODRIGO",
         "1"
        ],
        [
         "29",
         "MEJIA PEREZ,GUSTAVO",
         "1"
        ],
        [
         "30",
         "ANCHEYTA JUAREZ,JORGE",
         "1"
        ],
        [
         "31",
         "RAMIREZ SOLIS,JORGE FERNANDO",
         "1"
        ],
        [
         "32",
         "RAYO MAYORAL,PATRICIA",
         "1"
        ],
        [
         "33",
         "CENTENO NOLASCO,GUILLERMO",
         "1"
        ],
        [
         "34",
         "MARROQUIN SANCHEZ,GUSTAVO JESUS",
         "1"
        ],
        [
         "35",
         "BELTRAN CONDE,HIRAM ISAAC",
         "1"
        ],
        [
         "36",
         "ZAMUDIO RIVERA,LUIS SILVESTRE",
         "1"
        ],
        [
         "37",
         "DOMINGUEZ AGUILAR,MARCO ANTONIO",
         "1"
        ],
        [
         "38",
         "MENA CERVANTES,VIOLETA YASMIN",
         "1"
        ],
        [
         "39",
         "HERNANDEZ ALTAMIRANO,RAUL",
         "1"
        ],
        [
         "40",
         "VAZQUEZ MORENO,FLAVIO SALVADOR",
         "1"
        ],
        [
         "41",
         "ALVAREZ RAMIREZ,FERNANDO",
         "1"
        ],
        [
         "42",
         "HERNANDEZ CORTEZ,JOSE GONZALO",
         "1"
        ],
        [
         "43",
         "CASTRO SOTELO,LAURA VERONICA",
         "1"
        ],
        [
         "44",
         "FLORES OROPEZA,EUGENIO ALEJANDRO",
         "1"
        ],
        [
         "45",
         "REYES MARTINEZ,REYNA",
         "1"
        ],
        [
         "46",
         "MAYA FLORES,ETEL",
         "1"
        ],
        [
         "47",
         "QUINTANA SOLORZANO,ROBERTO",
         "1"
        ],
        [
         "48",
         "DEL ANGEL VICENTE,PAZ",
         "1"
        ],
        [
         "49",
         "ARMENDARIZ HERRERA,HECTOR",
         "1"
        ]
       ],
       "shape": {
        "columns": 2,
        "rows": 611
       }
      },
      "text/html": [
       "<div>\n",
       "<style scoped>\n",
       "    .dataframe tbody tr th:only-of-type {\n",
       "        vertical-align: middle;\n",
       "    }\n",
       "\n",
       "    .dataframe tbody tr th {\n",
       "        vertical-align: top;\n",
       "    }\n",
       "\n",
       "    .dataframe thead th {\n",
       "        text-align: right;\n",
       "    }\n",
       "</style>\n",
       "<table border=\"1\" class=\"dataframe\">\n",
       "  <thead>\n",
       "    <tr style=\"text-align: right;\">\n",
       "      <th></th>\n",
       "      <th>NOMBRE DEL INVESTIGADOR</th>\n",
       "      <th>count</th>\n",
       "    </tr>\n",
       "  </thead>\n",
       "  <tbody>\n",
       "    <tr>\n",
       "      <th>0</th>\n",
       "      <td>HERNANDEZ MAYA,ROBERTO CARLOS</td>\n",
       "      <td>2</td>\n",
       "    </tr>\n",
       "    <tr>\n",
       "      <th>1</th>\n",
       "      <td>SANCHEZ VALENTE,JAIME</td>\n",
       "      <td>2</td>\n",
       "    </tr>\n",
       "    <tr>\n",
       "      <th>2</th>\n",
       "      <td>FLORES SANDOVAL,CESAR ANDRES</td>\n",
       "      <td>2</td>\n",
       "    </tr>\n",
       "    <tr>\n",
       "      <th>3</th>\n",
       "      <td>POSSANI POSTAY,LOURIVAL DOMINGOS</td>\n",
       "      <td>2</td>\n",
       "    </tr>\n",
       "    <tr>\n",
       "      <th>4</th>\n",
       "      <td>LOPEZ SERRANO RAMOS,FRANCISCO</td>\n",
       "      <td>2</td>\n",
       "    </tr>\n",
       "    <tr>\n",
       "      <th>...</th>\n",
       "      <td>...</td>\n",
       "      <td>...</td>\n",
       "    </tr>\n",
       "    <tr>\n",
       "      <th>606</th>\n",
       "      <td>AGUILAR ARMENDARIZ,RAMON ALBERTO</td>\n",
       "      <td>1</td>\n",
       "    </tr>\n",
       "    <tr>\n",
       "      <th>607</th>\n",
       "      <td>SACRISTAN ROCK,EMILIO</td>\n",
       "      <td>1</td>\n",
       "    </tr>\n",
       "    <tr>\n",
       "      <th>608</th>\n",
       "      <td>ALONSO VILATELA,MARIA ELISA</td>\n",
       "      <td>1</td>\n",
       "    </tr>\n",
       "    <tr>\n",
       "      <th>609</th>\n",
       "      <td>VILLARREAL TREVINO,JUAN ANTONIO</td>\n",
       "      <td>1</td>\n",
       "    </tr>\n",
       "    <tr>\n",
       "      <th>610</th>\n",
       "      <td>LIU,HONGBO</td>\n",
       "      <td>1</td>\n",
       "    </tr>\n",
       "  </tbody>\n",
       "</table>\n",
       "<p>611 rows × 2 columns</p>\n",
       "</div>"
      ],
      "text/plain": [
       "              NOMBRE DEL INVESTIGADOR  count\n",
       "0       HERNANDEZ MAYA,ROBERTO CARLOS      2\n",
       "1               SANCHEZ VALENTE,JAIME      2\n",
       "2        FLORES SANDOVAL,CESAR ANDRES      2\n",
       "3    POSSANI POSTAY,LOURIVAL DOMINGOS      2\n",
       "4       LOPEZ SERRANO RAMOS,FRANCISCO      2\n",
       "..                                ...    ...\n",
       "606  AGUILAR ARMENDARIZ,RAMON ALBERTO      1\n",
       "607             SACRISTAN ROCK,EMILIO      1\n",
       "608       ALONSO VILATELA,MARIA ELISA      1\n",
       "609   VILLARREAL TREVINO,JUAN ANTONIO      1\n",
       "610                        LIU,HONGBO      1\n",
       "\n",
       "[611 rows x 2 columns]"
      ]
     },
     "execution_count": 8,
     "metadata": {},
     "output_type": "execute_result"
    }
   ],
   "source": [
    "table3 = df_resultados1['NOMBRE DEL INVESTIGADOR'].value_counts().reset_index()\n",
    "table3"
   ]
  },
  {
   "attachments": {
    "image-2.png": {
     "image/png": "[encoded data removed]"
    },
    "image.png": {
     "image/png": "[encoded data removed]"
    }
   },
   "cell_type": "markdown",
   "metadata": {},
   "source": [
    "Vemos que sigue habiendo datos duplicados, por lo que vamos a eliminar los duplicados solamente en la columna 'NOMBRE DEL INVESTIGADORR'\n",
    "\n",
    "Ya que por la regla, se puede observar que son datos duplicados. \n",
    "\n",
    "![image-2.png](attachment:image-2.png)\n",
    "\n",
    "Aunque hay casos como el siguiente:\n",
    "\n",
    "![image.png](attachment:image.png)"
   ]
  },
  {
   "cell_type": "code",
   "execution_count": 9,
   "metadata": {},
   "outputs": [],
   "source": [
    "# Eliminamos duplicados\n",
    "df_resultados1 = df_resultados1.drop_duplicates(subset=[\"NOMBRE DEL INVESTIGADOR\"])"
   ]
  },
  {
   "cell_type": "code",
   "execution_count": 10,
   "metadata": {},
   "outputs": [
    {
     "data": {
      "application/vnd.microsoft.datawrangler.viewer.v0+json": {
       "columns": [
        {
         "name": "index",
         "rawType": "int64",
         "type": "integer"
        },
        {
         "name": "NOMBRE DEL INVESTIGADOR",
         "rawType": "object",
         "type": "string"
        },
        {
         "name": "count",
         "rawType": "int64",
         "type": "integer"
        }
       ],
       "conversionMethod": "pd.DataFrame",
       "ref": "ba35328f-5170-4720-b26d-b4038e8fa162",
       "rows": [
        [
         "0",
         "LIU,HONGBO",
         "1"
        ],
        [
         "1",
         "VAZQUEZ GUEVARA,MIGUEL ANGEL",
         "1"
        ],
        [
         "2",
         "DOMINGUEZ ESQUIVEL,JOSE MANUEL",
         "1"
        ],
        [
         "3",
         "IBARRA GAYTAN,PABLO JESUS",
         "1"
        ],
        [
         "4",
         "SANCHEZ LLAMAZARES,JOSE LUIS",
         "1"
        ],
        [
         "5",
         "VACAS JACQUES,PAULINO",
         "1"
        ],
        [
         "6",
         "AGUILAR ESCALANTE,RODOLFO ANTONIO",
         "1"
        ],
        [
         "7",
         "RAMIREZ AMADOR,SERGIO",
         "1"
        ],
        [
         "8",
         "MORALES VILLAGRAN,ALBERTO",
         "1"
        ],
        [
         "9",
         "PEREZ ROBLES,JUAN FRANCISCO",
         "1"
        ],
        [
         "10",
         "LOPEZ ORTIZ,ALEJANDRO",
         "1"
        ],
        [
         "11",
         "GONZALEZ HERNANDEZ,JESUS",
         "1"
        ],
        [
         "12",
         "BANUELOS SANCHEZ,PEDRO",
         "1"
        ],
        [
         "13",
         "ESTRADA VARGAS,ANA PAULA",
         "1"
        ],
        [
         "14",
         "VALDIVIEZO MIJANGOS,OSCAR CERAPIO",
         "1"
        ],
        [
         "15",
         "CORDOVA DIAZ,RENE KTNWA",
         "1"
        ],
        [
         "16",
         "BERNAD BERNAD,MARIA JOSEFA",
         "1"
        ],
        [
         "17",
         "HERNANDEZ ROMERO,YANET MICAHELA",
         "1"
        ],
        [
         "18",
         "BARRIOS PEREZ,JOSE ANTONIO",
         "1"
        ],
        [
         "19",
         "DOMINGUEZ AGUILAR,MARCO ANTONIO",
         "1"
        ],
        [
         "20",
         "ZAMUDIO RIVERA,LUIS SILVESTRE",
         "1"
        ],
        [
         "21",
         "BELTRAN CONDE,HIRAM ISAAC",
         "1"
        ],
        [
         "22",
         "MARROQUIN SANCHEZ,GUSTAVO JESUS",
         "1"
        ],
        [
         "23",
         "CENTENO NOLASCO,GUILLERMO",
         "1"
        ],
        [
         "24",
         "RAYO MAYORAL,PATRICIA",
         "1"
        ],
        [
         "25",
         "RAMIREZ SOLIS,JORGE FERNANDO",
         "1"
        ],
        [
         "26",
         "ANCHEYTA JUAREZ,JORGE",
         "1"
        ],
        [
         "27",
         "MEJIA PEREZ,GUSTAVO",
         "1"
        ],
        [
         "28",
         "VILLANUEVA PONCE,RODRIGO",
         "1"
        ],
        [
         "29",
         "SANCHEZ GARCIA,SERGIO",
         "1"
        ],
        [
         "30",
         "HERNANDEZ GAMA,REGINA",
         "1"
        ],
        [
         "31",
         "ROJAS AVELIZAPA,NORMA GABRIELA",
         "1"
        ],
        [
         "32",
         "GARCIA DE LEON,ROBERTO",
         "1"
        ],
        [
         "33",
         "GOMEZ RAMIREZ,MARLENNE",
         "1"
        ],
        [
         "34",
         "NAVARRETE BOLANOS,JUAN",
         "1"
        ],
        [
         "35",
         "SANCHEZ,JOHN EDER",
         "1"
        ],
        [
         "36",
         "GUZMAN CASTILLO,MARIA DE LOURDES ALEJANDRA",
         "1"
        ],
        [
         "37",
         "ARMENDARIZ HERRERA,HECTOR",
         "1"
        ],
        [
         "38",
         "DEL ANGEL VICENTE,PAZ",
         "1"
        ],
        [
         "39",
         "QUINTANA SOLORZANO,ROBERTO",
         "1"
        ],
        [
         "40",
         "SANCHEZ VALENTE,JAIME",
         "1"
        ],
        [
         "41",
         "MAYA FLORES,ETEL",
         "1"
        ],
        [
         "42",
         "REYES MARTINEZ,REYNA",
         "1"
        ],
        [
         "43",
         "FLORES OROPEZA,EUGENIO ALEJANDRO",
         "1"
        ],
        [
         "44",
         "FLORES SANDOVAL,CESAR ANDRES",
         "1"
        ],
        [
         "45",
         "CASTRO SOTELO,LAURA VERONICA",
         "1"
        ],
        [
         "46",
         "HERNANDEZ CORTEZ,JOSE GONZALO",
         "1"
        ],
        [
         "47",
         "ALVAREZ RAMIREZ,FERNANDO",
         "1"
        ],
        [
         "48",
         "VAZQUEZ MORENO,FLAVIO SALVADOR",
         "1"
        ],
        [
         "49",
         "HERNANDEZ ALTAMIRANO,RAUL",
         "1"
        ]
       ],
       "shape": {
        "columns": 2,
        "rows": 611
       }
      },
      "text/html": [
       "<div>\n",
       "<style scoped>\n",
       "    .dataframe tbody tr th:only-of-type {\n",
       "        vertical-align: middle;\n",
       "    }\n",
       "\n",
       "    .dataframe tbody tr th {\n",
       "        vertical-align: top;\n",
       "    }\n",
       "\n",
       "    .dataframe thead th {\n",
       "        text-align: right;\n",
       "    }\n",
       "</style>\n",
       "<table border=\"1\" class=\"dataframe\">\n",
       "  <thead>\n",
       "    <tr style=\"text-align: right;\">\n",
       "      <th></th>\n",
       "      <th>NOMBRE DEL INVESTIGADOR</th>\n",
       "      <th>count</th>\n",
       "    </tr>\n",
       "  </thead>\n",
       "  <tbody>\n",
       "    <tr>\n",
       "      <th>0</th>\n",
       "      <td>LIU,HONGBO</td>\n",
       "      <td>1</td>\n",
       "    </tr>\n",
       "    <tr>\n",
       "      <th>1</th>\n",
       "      <td>VAZQUEZ GUEVARA,MIGUEL ANGEL</td>\n",
       "      <td>1</td>\n",
       "    </tr>\n",
       "    <tr>\n",
       "      <th>2</th>\n",
       "      <td>DOMINGUEZ ESQUIVEL,JOSE MANUEL</td>\n",
       "      <td>1</td>\n",
       "    </tr>\n",
       "    <tr>\n",
       "      <th>3</th>\n",
       "      <td>IBARRA GAYTAN,PABLO JESUS</td>\n",
       "      <td>1</td>\n",
       "    </tr>\n",
       "    <tr>\n",
       "      <th>4</th>\n",
       "      <td>SANCHEZ LLAMAZARES,JOSE LUIS</td>\n",
       "      <td>1</td>\n",
       "    </tr>\n",
       "    <tr>\n",
       "      <th>...</th>\n",
       "      <td>...</td>\n",
       "      <td>...</td>\n",
       "    </tr>\n",
       "    <tr>\n",
       "      <th>606</th>\n",
       "      <td>VEGA PAZ,ARACELI</td>\n",
       "      <td>1</td>\n",
       "    </tr>\n",
       "    <tr>\n",
       "      <th>607</th>\n",
       "      <td>MARIN CRUZ,JESUS</td>\n",
       "      <td>1</td>\n",
       "    </tr>\n",
       "    <tr>\n",
       "      <th>608</th>\n",
       "      <td>REYES VIDAL,MARIA YOLANDA</td>\n",
       "      <td>1</td>\n",
       "    </tr>\n",
       "    <tr>\n",
       "      <th>609</th>\n",
       "      <td>ABURTO ANELL,JORGE ARTURO</td>\n",
       "      <td>1</td>\n",
       "    </tr>\n",
       "    <tr>\n",
       "      <th>610</th>\n",
       "      <td>FLORES SANCHEZ,PATRICIA</td>\n",
       "      <td>1</td>\n",
       "    </tr>\n",
       "  </tbody>\n",
       "</table>\n",
       "<p>611 rows × 2 columns</p>\n",
       "</div>"
      ],
      "text/plain": [
       "            NOMBRE DEL INVESTIGADOR  count\n",
       "0                        LIU,HONGBO      1\n",
       "1      VAZQUEZ GUEVARA,MIGUEL ANGEL      1\n",
       "2    DOMINGUEZ ESQUIVEL,JOSE MANUEL      1\n",
       "3         IBARRA GAYTAN,PABLO JESUS      1\n",
       "4      SANCHEZ LLAMAZARES,JOSE LUIS      1\n",
       "..                              ...    ...\n",
       "606                VEGA PAZ,ARACELI      1\n",
       "607                MARIN CRUZ,JESUS      1\n",
       "608       REYES VIDAL,MARIA YOLANDA      1\n",
       "609       ABURTO ANELL,JORGE ARTURO      1\n",
       "610         FLORES SANCHEZ,PATRICIA      1\n",
       "\n",
       "[611 rows x 2 columns]"
      ]
     },
     "execution_count": 10,
     "metadata": {},
     "output_type": "execute_result"
    }
   ],
   "source": [
    "table4 = df_resultados1['NOMBRE DEL INVESTIGADOR'].value_counts().reset_index()\n",
    "table4"
   ]
  },
  {
   "attachments": {
    "image-2.png": {
     "image/png": "[encoded data removed]"
    }
   },
   "cell_type": "markdown",
   "metadata": {},
   "source": [
    "Con esto nos quedamos solamente con `611` datos, contra los `972` que teníamos anteriormente, esto se debe a que se unifico las dos base de datos de patentes.\n",
    "\n",
    "se hizo una mejora en la pre limpieza de los nombres y tenemos mas datos que son 100 de ratio que al compararlo de manera manual se puede corroborar que si coinciden los nombres. \n",
    "\n",
    "![image-2.png](attachment:image-2.png)\n",
    "\n",
    "\n"
   ]
  },
  {
   "cell_type": "code",
   "execution_count": 11,
   "metadata": {},
   "outputs": [],
   "source": [
    "df_resultados.to_csv(\"Pre Coincidencias.csv\", index=False)\n",
    "df_resultados1.to_csv(\"Coincidencias.csv\", index=False)"
   ]
  },
  {
   "attachments": {
    "image.png": {
     "image/png": "[encoded data removed]"
    }
   },
   "cell_type": "markdown",
   "metadata": {},
   "source": [
    "No se bajo el umbral a `76` como la vez pasada, por que hay mas nombres que no coinciden con el segundo apellido.\n",
    "\n",
    "![image.png](attachment:image.png)"
   ]
  }
 ],
 "metadata": {
  "kernelspec": {
   "display_name": "PT_entorno",
   "language": "python",
   "name": "python3"
  },
  "language_info": {
   "codemirror_mode": {
    "name": "ipython",
    "version": 3
   },
   "file_extension": ".py",
   "mimetype": "text/x-python",
   "name": "python",
   "nbconvert_exporter": "python",
   "pygments_lexer": "ipython3",
   "version": "3.10.5"
  }
 },
 "nbformat": 4,
 "nbformat_minor": 2
}
