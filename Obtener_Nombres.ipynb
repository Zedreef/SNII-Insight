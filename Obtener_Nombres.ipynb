{
 "cells": [
  {
   "cell_type": "code",
   "execution_count": 12,
   "metadata": {},
   "outputs": [],
   "source": [
    "import pandas as pd\n",
    "import unidecode\n",
    "\n",
    "# Leer el archivo CSV\n",
    "df = pd.read_csv('INVENTOR6724.csv')\n",
    "\n",
    "# Seleccionar las columnas necesarias\n",
    "df['NOMBRE DEL INVESTIGADOR PATENTE'] = df['inventor_last_name'] + ',' + df['inventor_first_name']\n",
    "\n",
    "# Seleccionar y formatear nombres\n",
    "df['NOMBRE DEL INVESTIGADOR PATENTE'] = (\n",
    "    df['inventor_last_name'] + ',' + df['inventor_first_name']\n",
    "    ).str.replace(r'[-]', ' ', regex=True).str.replace(r'[.]', '', regex=True).apply(unidecode.unidecode).str.upper()\n",
    "\n",
    "# Ordenar en orden alfabético\n",
    "df = df.sort_values(by='NOMBRE DEL INVESTIGADOR PATENTE').drop_duplicates(subset=['NOMBRE DEL INVESTIGADOR PATENTE'])\n",
    "\n",
    "# Guardar en un nuevo archivo CSV\n",
    "df[['NOMBRE DEL INVESTIGADOR PATENTE']].to_csv('Nombres_Patentes.csv', index=False)"
   ]
  },
  {
   "cell_type": "code",
   "execution_count": 13,
   "metadata": {},
   "outputs": [],
   "source": [
    "# Leer el archivo Nombres_Limpios_Final\n",
    "df_nombres_limpios = pd.read_csv('Nombres_Limpios_Final.csv')\n",
    "\n",
    "# Buscar coincidencias\n",
    "df_match = df[df['NOMBRE DEL INVESTIGADOR PATENTE'].isin(df_nombres_limpios['NOMBRE DEL INVESTIGADOR'])]\n",
    "\n",
    "# Guardar las coincidencias en un nuevo archivo CSV\n",
    "df_match[['NOMBRE DEL INVESTIGADOR PATENTE']].rename(columns={'NOMBRE DEL INVESTIGADOR PATENTE': 'NOMBRE DEL INVESTIGADOR MATCH'}).to_csv('Match.csv', index=False)"
   ]
  }
 ],
 "metadata": {
  "kernelspec": {
   "display_name": "PT_entorno",
   "language": "python",
   "name": "python3"
  },
  "language_info": {
   "codemirror_mode": {
    "name": "ipython",
    "version": 3
   },
   "file_extension": ".py",
   "mimetype": "text/x-python",
   "name": "python",
   "nbconvert_exporter": "python",
   "pygments_lexer": "ipython3",
   "version": "3.10.5"
  }
 },
 "nbformat": 4,
 "nbformat_minor": 2
}
