{
 "cells": [
  {
   "cell_type": "code",
   "execution_count": 2,
   "metadata": {},
   "outputs": [],
   "source": [
    "import pandas as pd"
   ]
  },
  {
   "cell_type": "code",
   "execution_count": 3,
   "metadata": {},
   "outputs": [
    {
     "data": {
      "application/vnd.microsoft.datawrangler.viewer.v0+json": {
       "columns": [
        {
         "name": "index",
         "rawType": "int64",
         "type": "integer"
        },
        {
         "name": "NOMBRE DEL INVESTIGADOR",
         "rawType": "object",
         "type": "string"
        },
        {
         "name": "NOMBRE DEL INVESTIGADOR PATENTE",
         "rawType": "object",
         "type": "string"
        },
        {
         "name": "SIMILARITY",
         "rawType": "object",
         "type": "string"
        },
        {
         "name": "NOMBRE_INVESTIGADOR_NORM",
         "rawType": "object",
         "type": "string"
        },
        {
         "name": "NOMBRE_PATENTE_NORM",
         "rawType": "object",
         "type": "string"
        },
        {
         "name": "ES_MISMA_PERSONA",
         "rawType": "bool",
         "type": "boolean"
        },
        {
         "name": "SCORE",
         "rawType": "float64",
         "type": "float"
        },
        {
         "name": "DETALLES",
         "rawType": "object",
         "type": "string"
        }
       ],
       "conversionMethod": "pd.DataFrame",
       "ref": "401ed6dc-dee7-40a2-9ba8-a729977347fb",
       "rows": [
        [
         "0",
         "ABSALON CONSTANTINO,ANGEL EDUARDO",
         "ABSALON CONSTANTINO,ANGEL EDUARDO",
         "100",
         "ABSALON CONSTANTINO,ANGEL EDUARDO",
         "ABSALON CONSTANTINO,ANGEL EDUARDO",
         "False",
         "40.0",
         "Similitud Nombre (100%)"
        ],
        [
         "1",
         "ABURTO ANELL,JORGE ARTURO",
         "ABURTO ANELL,JORGE ARTURO",
         "100",
         "ABURTO ANELL,JORGE ARTURO",
         "ABURTO ANELL,JORGE ARTURO",
         "False",
         "60.0",
         "Institución"
        ],
        [
         "2",
         "ACEVES DIEZ,ANGEL EMILIO",
         "ACEVES DIEZ,ANGEL EMILIO",
         "100",
         "ACEVES DIEZ,ANGEL EMILIO",
         "ACEVES DIEZ,ANGEL EMILIO",
         "False",
         "40.0",
         "Sin coincidencias"
        ],
        [
         "3",
         "RIVAS ACEVES,SALVADOR",
         "ACEVES,SALVADOR M",
         "7.777.777.777.777.770",
         "RIVAS ACEVES,SALVADOR",
         "ACEVES,SALVADOR M",
         "False",
         "37.6",
         "Similitud Nombre (94%)"
        ],
        [
         "4",
         "ACOSTA GONZALEZ,GUILLERMO ENRIQUE",
         "ACOSTA GONZALEZ,GUILLERMO ENRIQUE",
         "100",
         "ACOSTA GONZALEZ,GUILLERMO ENRIQUE",
         "ACOSTA GONZALEZ,GUILLERMO ENRIQUE",
         "False",
         "40.0",
         "Sin coincidencias"
        ],
        [
         "5",
         "ACOSTA SALMON,HECTOR",
         "ACOSTA SALMON,HECTOR",
         "100",
         "ACOSTA SALMON,HECTOR",
         "ACOSTA SALMON,HECTOR",
         "False",
         "40.0",
         "Similitud Nombre (100%)"
        ],
        [
         "6",
         "ADAMS,RANDY HOWARD",
         "ADAMS,RANDY HOWARD",
         "100",
         "ADAMS,RANDY HOWARD",
         "ADAMS,RANDY HOWARD",
         "False",
         "60.0",
         "Institución"
        ],
        [
         "7",
         "AGUILA HERNANDEZ,JACINTO",
         "AGUILA HERNANDEZ,JACINTO",
         "100",
         "AGUILA HERNANDEZ,JACINTO",
         "AGUILA HERNANDEZ,JACINTO",
         "False",
         "60.0",
         "Institución"
        ],
        [
         "8",
         "AGUILAR ELGUEZABAL,ALFREDO",
         "AGUILAR ELGUEZABAL,ALFREDO",
         "100",
         "AGUILAR ELGUEZABAL,ALFREDO",
         "AGUILAR ELGUEZABAL,ALFREDO",
         "False",
         "40.0",
         "Sin coincidencias"
        ],
        [
         "9",
         "AGUILAR ESCALANTE,RODOLFO ANTONIO",
         "AGUILAR ESCALANTE,RODOLFO ANTONIO",
         "100",
         "AGUILAR ESCALANTE,RODOLFO ANTONIO",
         "AGUILAR ESCALANTE,RODOLFO ANTONIO",
         "True",
         "80.0",
         "Institución, Fecha"
        ],
        [
         "10",
         "AGUILAR FAISAL,JOSE LEOPOLDO",
         "AGUILAR FAISAL,JOSE LEOPOLDO",
         "100",
         "AGUILAR FAISAL,JOSE LEOPOLDO",
         "AGUILAR FAISAL,JOSE LEOPOLDO",
         "False",
         "40.0",
         "Similitud Nombre (100%)"
        ],
        [
         "11",
         "AGUILAR MENDOZA,GUILLERMO",
         "AGUILAR MENDOZA,GUILLERMO",
         "100",
         "AGUILAR MENDOZA,GUILLERMO",
         "AGUILAR MENDOZA,GUILLERMO",
         "False",
         "40.0",
         "Similitud Nombre (100%)"
        ],
        [
         "12",
         "AGUILAR PLIEGO,JULIA",
         "AGUILAR PLIEGO,JULIA",
         "100",
         "AGUILAR PLIEGO,JULIA",
         "AGUILAR PLIEGO,JULIA",
         "False",
         "60.0",
         "Institución"
        ],
        [
         "13",
         "AGUILAR TOALA,JOSE ELEAZAR",
         "AGUILAR TOALA,JOSE ELEAZAR",
         "100",
         "AGUILAR TOALA,JOSE ELEAZAR",
         "AGUILAR TOALA,JOSE ELEAZAR",
         "False",
         "40.0",
         "Similitud Nombre (100%)"
        ],
        [
         "14",
         "AGUILAR VEGA,MANUEL DE JESUS",
         "AGUILAR VEGA,MANUEL DE JESUS",
         "100",
         "AGUILAR VEGA,MANUEL DE JESUS",
         "AGUILAR VEGA,MANUEL DE JESUS",
         "False",
         "40.0",
         "Sin coincidencias"
        ],
        [
         "15",
         "AGUILAR GONZALEZ,ALBERTO",
         "AGUILAR,ALBERT",
         "7.658.862.876.254.180",
         "AGUILAR GONZALEZ,ALBERTO",
         "AGUILAR,ALBERT",
         "True",
         "80.0",
         "Institución, Fecha"
        ],
        [
         "16",
         "AGUILAR LOPEZ,ANTONIO",
         "AGUILAR,ANTONIO",
         "85",
         "AGUILAR LOPEZ,ANTONIO",
         "AGUILAR,ANTONIO",
         "False",
         "40.0",
         "Sin coincidencias"
        ],
        [
         "17",
         "PEREZ AGUILAR,BENJAMIN",
         "AGUILAR,BENJAMIN",
         "85",
         "PEREZ AGUILAR,BENJAMIN",
         "AGUILAR,BENJAMIN",
         "False",
         "40.0",
         "Sin coincidencias"
        ],
        [
         "18",
         "AYON AGUILAR,JORGE",
         "AGUILAR,JORGE",
         "8.684.210.526.315.780",
         "AYON AGUILAR,JORGE",
         "AGUILAR,JORGE",
         "False",
         "60.0",
         "Institución"
        ],
        [
         "19",
         "AGUILAR RIVERA,JOSE ANTONIO",
         "AGUILAR,JOSE ANTONIO",
         "8.333.333.333.333.330",
         "AGUILAR RIVERA,JOSE ANTONIO",
         "AGUILAR,JOSE ANTONIO",
         "False",
         "40.0",
         "Sin coincidencias"
        ],
        [
         "20",
         "GOMEZ AGUILAR,JOSE FRANCISCO",
         "AGUILAR,JOSE FRANCISCO",
         "85",
         "GOMEZ AGUILAR,JOSE FRANCISCO",
         "AGUILAR,JOSE FRANCISCO",
         "False",
         "60.0",
         "Institución"
        ],
        [
         "21",
         "AGUILAR JIMENEZ,JOSE ROBERTO",
         "AGUILAR,JOSE ROBERTO",
         "8.181.818.181.818.180",
         "AGUILAR JIMENEZ,JOSE ROBERTO",
         "AGUILAR,JOSE ROBERTO",
         "False",
         "60.0",
         "Institución"
        ],
        [
         "22",
         "SANCHEZ AGUILAR,MARIO",
         "AGUILAR,MARIO",
         "8.181.818.181.818.180",
         "SANCHEZ AGUILAR,MARIO",
         "AGUILAR,MARIO",
         "False",
         "40.0",
         "Sin coincidencias"
        ],
        [
         "23",
         "AGUILAR MEJIA,OMAR",
         "AGUILAR,OMAR",
         "85",
         "AGUILAR MEJIA,OMAR",
         "AGUILAR,OMAR",
         "False",
         "60.0",
         "Institución"
        ],
        [
         "24",
         "MORA AGUILAR,RAFAEL",
         "AGUILAR,RAFAEL",
         "8.684.210.526.315.780",
         "MORA AGUILAR,RAFAEL",
         "AGUILAR,RAFAEL",
         "False",
         "60.0",
         "Institución"
        ],
        [
         "25",
         "AGUILERA CORTES,LUZ ANTONIO",
         "AGUILERA CORTES,LUZ ANTONIO",
         "100",
         "AGUILERA CORTES,LUZ ANTONIO",
         "AGUILERA CORTES,LUZ ANTONIO",
         "False",
         "60.0",
         "Institución"
        ],
        [
         "26",
         "AGUILERA GOMEZ,EDUARDO",
         "AGUILERA GOMEZ,EDUARDO",
         "100",
         "AGUILERA GOMEZ,EDUARDO",
         "AGUILERA GOMEZ,EDUARDO",
         "False",
         "60.0",
         "Institución"
        ],
        [
         "27",
         "AGUILAR FAISAL,JOSE LEOPOLDO",
         "AGUILR FAISAL,JOSE  LEOPOLDO",
         "962.962.963",
         "AGUILAR FAISAL,JOSE LEOPOLDO",
         "AGUILR FAISAL,JOSE  LEOPOLDO",
         "False",
         "39.2",
         "Similitud Nombre (98%)"
        ],
        [
         "28",
         "LOPEZ AGUIRRE,DANIEL",
         "AGUIRRE,DANIEL",
         "85",
         "LOPEZ AGUIRRE,DANIEL",
         "AGUIRRE,DANIEL",
         "True",
         "80.0",
         "Institución, Fecha"
        ],
        [
         "29",
         "ALAGON CANO,ALEJANDRO",
         "ALAGON CANO,ALEJANDRO",
         "100",
         "ALAGON CANO,ALEJANDRO",
         "ALAGON CANO,ALEJANDRO",
         "False",
         "60.0",
         "Institución"
        ],
        [
         "30",
         "ALCANTAR CAMARENA,VICTOR ALFONSO",
         "ALCANTAR CAMARENA,VICTOR ALFONSO",
         "100",
         "ALCANTAR CAMARENA,VICTOR ALFONSO",
         "ALCANTAR CAMARENA,VICTOR ALFONSO",
         "False",
         "40.0",
         "Similitud Nombre (100%)"
        ],
        [
         "31",
         "GALINDO ALCANTARA,ADALBERTO",
         "ALCANTARA,ALBERTO",
         "7.836.538.461.538.460",
         "GALINDO ALCANTARA,ADALBERTO",
         "ALCANTARA,ALBERTO",
         "False",
         "60.0",
         "Institución"
        ],
        [
         "32",
         "HERRERA ALCANTARA,OSCAR",
         "ALCANTARA,OSCAR M",
         "7.628.205.128.205.120",
         "HERRERA ALCANTARA,OSCAR",
         "ALCANTARA,OSCAR M",
         "False",
         "37.6",
         "Similitud Nombre (94%)"
        ],
        [
         "33",
         "ALDAYA GARDE,IVAN ARITZ",
         "ALDAYA GARDE,IVAN ARITZ",
         "100",
         "ALDAYA GARDE,IVAN ARITZ",
         "ALDAYA GARDE,IVAN ARITZ",
         "False",
         "60.0",
         "Institución"
        ],
        [
         "34",
         "ALDAYA GARDE,IVAN ARITZ",
         "ALDAYA GARDE,IVAN ARTIZ",
         "95",
         "ALDAYA GARDE,IVAN ARITZ",
         "ALDAYA GARDE,IVAN ARTIZ",
         "False",
         "60.0",
         "Institución"
        ],
        [
         "35",
         "PAYAN ALEJO,JORGE",
         "ALEJO,JORGE",
         "81.25",
         "PAYAN ALEJO,JORGE",
         "ALEJO,JORGE",
         "False",
         "60.0",
         "Institución"
        ],
        [
         "36",
         "ALEKSANDROV,VLADIMIR",
         "ALEKSANDROV,VLADIMIR",
         "100",
         "ALEKSANDROV,VLADIMIR",
         "ALEKSANDROV,VLADIMIR",
         "False",
         "60.0",
         "Institución"
        ],
        [
         "37",
         "ALEMAN VAZQUEZ,LAURA OLIVIA",
         "ALEMAN VAZQUEZ,LAURA OLIVIA",
         "100",
         "ALEMAN VAZQUEZ,LAURA OLIVIA",
         "ALEMAN VAZQUEZ,LAURA OLIVIA",
         "False",
         "60.0",
         "Institución"
        ],
        [
         "38",
         "ALEXANDROVA,LARISSA",
         "ALEXANDROVA,LARISSA",
         "100",
         "ALEXANDROVA,LARISSA",
         "ALEXANDROVA,LARISSA",
         "False",
         "60.0",
         "Institución"
        ],
        [
         "39",
         "ALMEIDA LOYA,SERGIO FABIAN",
         "ALMEIDA LOYA,SERGIO FABIAN",
         "100",
         "ALMEIDA LOYA,SERGIO FABIAN",
         "ALMEIDA LOYA,SERGIO FABIAN",
         "False",
         "60.0",
         "Fecha"
        ],
        [
         "40",
         "ALONSO GARCIA,ANA LUCIA",
         "ALONSO GARCIA,ANA LUCIA",
         "100",
         "ALONSO GARCIA,ANA LUCIA",
         "ALONSO GARCIA,ANA LUCIA",
         "False",
         "40.0",
         "Similitud Nombre (100%)"
        ],
        [
         "41",
         "ALONSO MARTINEZ,FERNANDO",
         "ALONSO MARTINEZ,FERNANDO",
         "100",
         "ALONSO MARTINEZ,FERNANDO",
         "ALONSO MARTINEZ,FERNANDO",
         "True",
         "80.0",
         "Institución, Fecha"
        ],
        [
         "42",
         "ALONSO MARTINEZ,FERNANDO",
         "ALONSO MARTINEZ,FRENANDO",
         "93.75",
         "ALONSO MARTINEZ,FERNANDO",
         "ALONSO MARTINEZ,FRENANDO",
         "True",
         "80.0",
         "Institución, Fecha"
        ],
        [
         "43",
         "ALONSO NUNEZ,GABRIEL",
         "ALONSO NUNEZ,GABRIEL",
         "100",
         "ALONSO NUNEZ,GABRIEL",
         "ALONSO NUNEZ,GABRIEL",
         "False",
         "40.0",
         "Sin coincidencias"
        ],
        [
         "44",
         "DIAZ ALONSO,DANIELA",
         "ALONSO,DANIELA",
         "8.529.411.764.705.880",
         "DIAZ ALONSO,DANIELA",
         "ALONSO,DANIELA",
         "False",
         "60.0",
         "Fecha"
        ],
        [
         "45",
         "ALONSO NUNEZ,GABRIEL",
         "ALONSO,GABRIEL",
         "8.333.333.333.333.330",
         "ALONSO NUNEZ,GABRIEL",
         "ALONSO,GABRIEL",
         "False",
         "40.0",
         "Sin coincidencias"
        ],
        [
         "46",
         "ALTAGRACIA MARTINEZ,MARINA",
         "ALTAGRACIA MARTINEZ,MARINA",
         "100",
         "ALTAGRACIA MARTINEZ,MARINA",
         "ALTAGRACIA MARTINEZ,MARINA",
         "False",
         "60.0",
         "Institución"
        ],
        [
         "47",
         "ALTAMIRANO BUSTAMANTE,MYRIAM MARLENNE",
         "ALTAMIRANO BUSTAMANTE,MYRIAM MARLENE",
         "9.827.586.206.896.550",
         "ALTAMIRANO BUSTAMANTE,MYRIAM MARLENNE",
         "ALTAMIRANO BUSTAMANTE,MYRIAM MARLENE",
         "False",
         "60.0",
         "Institución"
        ],
        [
         "48",
         "ALUJA SCHUNEMAN HOFER,MARTIN RAMON",
         "ALUJA SCHUNEMAN,MARTIN RAMON",
         "9.166.666.666.666.660",
         "ALUJA SCHUNEMAN HOFER,MARTIN RAMON",
         "ALUJA SCHUNEMAN,MARTIN RAMON",
         "False",
         "40.0",
         "Similitud Nombre (100%)"
        ],
        [
         "49",
         "ALVAREZ CONTRERAS,LORENA",
         "ALVAREZ CONTRERAS,LORENA",
         "100",
         "ALVAREZ CONTRERAS,LORENA",
         "ALVAREZ CONTRERAS,LORENA",
         "False",
         "40.0",
         "Sin coincidencias"
        ]
       ],
       "shape": {
        "columns": 8,
        "rows": 976
       }
      },
      "text/html": [
       "<div>\n",
       "<style scoped>\n",
       "    .dataframe tbody tr th:only-of-type {\n",
       "        vertical-align: middle;\n",
       "    }\n",
       "\n",
       "    .dataframe tbody tr th {\n",
       "        vertical-align: top;\n",
       "    }\n",
       "\n",
       "    .dataframe thead th {\n",
       "        text-align: right;\n",
       "    }\n",
       "</style>\n",
       "<table border=\"1\" class=\"dataframe\">\n",
       "  <thead>\n",
       "    <tr style=\"text-align: right;\">\n",
       "      <th></th>\n",
       "      <th>NOMBRE DEL INVESTIGADOR</th>\n",
       "      <th>NOMBRE DEL INVESTIGADOR PATENTE</th>\n",
       "      <th>SIMILARITY</th>\n",
       "      <th>NOMBRE_INVESTIGADOR_NORM</th>\n",
       "      <th>NOMBRE_PATENTE_NORM</th>\n",
       "      <th>ES_MISMA_PERSONA</th>\n",
       "      <th>SCORE</th>\n",
       "      <th>DETALLES</th>\n",
       "    </tr>\n",
       "  </thead>\n",
       "  <tbody>\n",
       "    <tr>\n",
       "      <th>0</th>\n",
       "      <td>ABSALON CONSTANTINO,ANGEL EDUARDO</td>\n",
       "      <td>ABSALON CONSTANTINO,ANGEL EDUARDO</td>\n",
       "      <td>100</td>\n",
       "      <td>ABSALON CONSTANTINO,ANGEL EDUARDO</td>\n",
       "      <td>ABSALON CONSTANTINO,ANGEL EDUARDO</td>\n",
       "      <td>False</td>\n",
       "      <td>40.0</td>\n",
       "      <td>Similitud Nombre (100%)</td>\n",
       "    </tr>\n",
       "    <tr>\n",
       "      <th>1</th>\n",
       "      <td>ABURTO ANELL,JORGE ARTURO</td>\n",
       "      <td>ABURTO ANELL,JORGE ARTURO</td>\n",
       "      <td>100</td>\n",
       "      <td>ABURTO ANELL,JORGE ARTURO</td>\n",
       "      <td>ABURTO ANELL,JORGE ARTURO</td>\n",
       "      <td>False</td>\n",
       "      <td>60.0</td>\n",
       "      <td>Institución</td>\n",
       "    </tr>\n",
       "    <tr>\n",
       "      <th>2</th>\n",
       "      <td>ACEVES DIEZ,ANGEL EMILIO</td>\n",
       "      <td>ACEVES DIEZ,ANGEL EMILIO</td>\n",
       "      <td>100</td>\n",
       "      <td>ACEVES DIEZ,ANGEL EMILIO</td>\n",
       "      <td>ACEVES DIEZ,ANGEL EMILIO</td>\n",
       "      <td>False</td>\n",
       "      <td>40.0</td>\n",
       "      <td>Sin coincidencias</td>\n",
       "    </tr>\n",
       "    <tr>\n",
       "      <th>3</th>\n",
       "      <td>RIVAS ACEVES,SALVADOR</td>\n",
       "      <td>ACEVES,SALVADOR M</td>\n",
       "      <td>7.777.777.777.777.770</td>\n",
       "      <td>RIVAS ACEVES,SALVADOR</td>\n",
       "      <td>ACEVES,SALVADOR M</td>\n",
       "      <td>False</td>\n",
       "      <td>37.6</td>\n",
       "      <td>Similitud Nombre (94%)</td>\n",
       "    </tr>\n",
       "    <tr>\n",
       "      <th>4</th>\n",
       "      <td>ACOSTA GONZALEZ,GUILLERMO ENRIQUE</td>\n",
       "      <td>ACOSTA GONZALEZ,GUILLERMO ENRIQUE</td>\n",
       "      <td>100</td>\n",
       "      <td>ACOSTA GONZALEZ,GUILLERMO ENRIQUE</td>\n",
       "      <td>ACOSTA GONZALEZ,GUILLERMO ENRIQUE</td>\n",
       "      <td>False</td>\n",
       "      <td>40.0</td>\n",
       "      <td>Sin coincidencias</td>\n",
       "    </tr>\n",
       "    <tr>\n",
       "      <th>...</th>\n",
       "      <td>...</td>\n",
       "      <td>...</td>\n",
       "      <td>...</td>\n",
       "      <td>...</td>\n",
       "      <td>...</td>\n",
       "      <td>...</td>\n",
       "      <td>...</td>\n",
       "      <td>...</td>\n",
       "    </tr>\n",
       "    <tr>\n",
       "      <th>971</th>\n",
       "      <td>ZAVALA OLIVARES,GERARDO</td>\n",
       "      <td>ZAVALA OLIVARES,GERARDO</td>\n",
       "      <td>100</td>\n",
       "      <td>ZAVALA OLIVARES,GERARDO</td>\n",
       "      <td>ZAVALA OLIVARES,GERARDO</td>\n",
       "      <td>False</td>\n",
       "      <td>60.0</td>\n",
       "      <td>Institución</td>\n",
       "    </tr>\n",
       "    <tr>\n",
       "      <th>972</th>\n",
       "      <td>ZAVALA YOE,RICARDO</td>\n",
       "      <td>ZAVALA,RICARDO</td>\n",
       "      <td>87.5</td>\n",
       "      <td>ZAVALA YOE,RICARDO</td>\n",
       "      <td>ZAVALA,RICARDO</td>\n",
       "      <td>True</td>\n",
       "      <td>80.0</td>\n",
       "      <td>Institución, Fecha</td>\n",
       "    </tr>\n",
       "    <tr>\n",
       "      <th>973</th>\n",
       "      <td>ZENTENO RAMIREZ,ANTONIO</td>\n",
       "      <td>ZENTENO RAMIREZ,ANTONIO</td>\n",
       "      <td>100</td>\n",
       "      <td>ZENTENO RAMIREZ,ANTONIO</td>\n",
       "      <td>ZENTENO RAMIREZ,ANTONIO</td>\n",
       "      <td>False</td>\n",
       "      <td>40.0</td>\n",
       "      <td>Sin coincidencias</td>\n",
       "    </tr>\n",
       "    <tr>\n",
       "      <th>974</th>\n",
       "      <td>ZEPEDA PARTIDA,TRINO ARMANDO</td>\n",
       "      <td>ZEPEDA PARTIDA,TRINO ARMANDO</td>\n",
       "      <td>100</td>\n",
       "      <td>ZEPEDA PARTIDA,TRINO ARMANDO</td>\n",
       "      <td>ZEPEDA PARTIDA,TRINO ARMANDO</td>\n",
       "      <td>False</td>\n",
       "      <td>60.0</td>\n",
       "      <td>Institución</td>\n",
       "    </tr>\n",
       "    <tr>\n",
       "      <th>975</th>\n",
       "      <td>ZOLOTUKHIN,MIKHAIL</td>\n",
       "      <td>ZOLOTUKHIN,MIKHAIL</td>\n",
       "      <td>100</td>\n",
       "      <td>ZOLOTUKHIN,MIKHAIL</td>\n",
       "      <td>ZOLOTUKHIN,MIKHAIL</td>\n",
       "      <td>False</td>\n",
       "      <td>60.0</td>\n",
       "      <td>Institución</td>\n",
       "    </tr>\n",
       "  </tbody>\n",
       "</table>\n",
       "<p>976 rows × 8 columns</p>\n",
       "</div>"
      ],
      "text/plain": [
       "               NOMBRE DEL INVESTIGADOR    NOMBRE DEL INVESTIGADOR PATENTE  \\\n",
       "0    ABSALON CONSTANTINO,ANGEL EDUARDO  ABSALON CONSTANTINO,ANGEL EDUARDO   \n",
       "1            ABURTO ANELL,JORGE ARTURO          ABURTO ANELL,JORGE ARTURO   \n",
       "2             ACEVES DIEZ,ANGEL EMILIO           ACEVES DIEZ,ANGEL EMILIO   \n",
       "3                RIVAS ACEVES,SALVADOR                  ACEVES,SALVADOR M   \n",
       "4    ACOSTA GONZALEZ,GUILLERMO ENRIQUE  ACOSTA GONZALEZ,GUILLERMO ENRIQUE   \n",
       "..                                 ...                                ...   \n",
       "971            ZAVALA OLIVARES,GERARDO            ZAVALA OLIVARES,GERARDO   \n",
       "972                 ZAVALA YOE,RICARDO                     ZAVALA,RICARDO   \n",
       "973            ZENTENO RAMIREZ,ANTONIO            ZENTENO RAMIREZ,ANTONIO   \n",
       "974       ZEPEDA PARTIDA,TRINO ARMANDO       ZEPEDA PARTIDA,TRINO ARMANDO   \n",
       "975                 ZOLOTUKHIN,MIKHAIL                 ZOLOTUKHIN,MIKHAIL   \n",
       "\n",
       "                SIMILARITY           NOMBRE_INVESTIGADOR_NORM  \\\n",
       "0                      100  ABSALON CONSTANTINO,ANGEL EDUARDO   \n",
       "1                      100          ABURTO ANELL,JORGE ARTURO   \n",
       "2                      100           ACEVES DIEZ,ANGEL EMILIO   \n",
       "3    7.777.777.777.777.770              RIVAS ACEVES,SALVADOR   \n",
       "4                      100  ACOSTA GONZALEZ,GUILLERMO ENRIQUE   \n",
       "..                     ...                                ...   \n",
       "971                    100            ZAVALA OLIVARES,GERARDO   \n",
       "972                   87.5                 ZAVALA YOE,RICARDO   \n",
       "973                    100            ZENTENO RAMIREZ,ANTONIO   \n",
       "974                    100       ZEPEDA PARTIDA,TRINO ARMANDO   \n",
       "975                    100                 ZOLOTUKHIN,MIKHAIL   \n",
       "\n",
       "                   NOMBRE_PATENTE_NORM  ES_MISMA_PERSONA  SCORE  \\\n",
       "0    ABSALON CONSTANTINO,ANGEL EDUARDO             False   40.0   \n",
       "1            ABURTO ANELL,JORGE ARTURO             False   60.0   \n",
       "2             ACEVES DIEZ,ANGEL EMILIO             False   40.0   \n",
       "3                    ACEVES,SALVADOR M             False   37.6   \n",
       "4    ACOSTA GONZALEZ,GUILLERMO ENRIQUE             False   40.0   \n",
       "..                                 ...               ...    ...   \n",
       "971            ZAVALA OLIVARES,GERARDO             False   60.0   \n",
       "972                     ZAVALA,RICARDO              True   80.0   \n",
       "973            ZENTENO RAMIREZ,ANTONIO             False   40.0   \n",
       "974       ZEPEDA PARTIDA,TRINO ARMANDO             False   60.0   \n",
       "975                 ZOLOTUKHIN,MIKHAIL             False   60.0   \n",
       "\n",
       "                    DETALLES  \n",
       "0    Similitud Nombre (100%)  \n",
       "1                Institución  \n",
       "2          Sin coincidencias  \n",
       "3     Similitud Nombre (94%)  \n",
       "4          Sin coincidencias  \n",
       "..                       ...  \n",
       "971              Institución  \n",
       "972       Institución, Fecha  \n",
       "973        Sin coincidencias  \n",
       "974              Institución  \n",
       "975              Institución  \n",
       "\n",
       "[976 rows x 8 columns]"
      ]
     },
     "execution_count": 3,
     "metadata": {},
     "output_type": "execute_result"
    }
   ],
   "source": [
    "df_pre = pd.read_csv('Resultados comparativa anterior.csv')\n",
    "df_pre"
   ]
  },
  {
   "cell_type": "code",
   "execution_count": 4,
   "metadata": {},
   "outputs": [],
   "source": [
    "# Convertimos a float la columna SIMILARITY, los números con más de un punto como '7.777.777.777.777.770' agarrar solo los primeros 3 dígitos '7.777.777.777.777.770' -> '7.77'\n",
    "def formatear_similarity(valor):\n",
    "    cad = str(valor)\n",
    "    idx = cad.find('.')\n",
    "    if idx != -1:\n",
    "        # Toma los primeros dos dígitos antes del punto\n",
    "        entero = cad[:idx].replace('.', '')[:2]\n",
    "        # Toma el primer dígito después del punto\n",
    "        decimal = cad[idx+1:idx+2]\n",
    "        fixed = f\"{entero}.{decimal}\"\n",
    "        try:\n",
    "            resultado = float(fixed)\n",
    "            return min(resultado, 100.0)  # Limitar el valor máximo a 100\n",
    "        except ValueError:\n",
    "            return 0.0  # o maneja el error según convenga\n",
    "    return float(cad)\n",
    "\n",
    "df_pre['SIMILARITY'] = df_pre['SIMILARITY'].apply(formatear_similarity)"
   ]
  },
  {
   "cell_type": "code",
   "execution_count": 5,
   "metadata": {},
   "outputs": [],
   "source": [
    "# eliminamos los datos que tengan 100 en el 'SIMILARITY'\n",
    "df_pre = df_pre[df_pre['SIMILARITY'] < 100]"
   ]
  },
  {
   "cell_type": "code",
   "execution_count": 6,
   "metadata": {},
   "outputs": [
    {
     "data": {
      "application/vnd.microsoft.datawrangler.viewer.v0+json": {
       "columns": [
        {
         "name": "index",
         "rawType": "int64",
         "type": "integer"
        },
        {
         "name": "NOMBRE DEL INVESTIGADOR",
         "rawType": "object",
         "type": "string"
        },
        {
         "name": "NOMBRE_INVENTOR",
         "rawType": "object",
         "type": "string"
        },
        {
         "name": "Ratio",
         "rawType": "float64",
         "type": "float"
        }
       ],
       "conversionMethod": "pd.DataFrame",
       "ref": "8fdf159d-a7f2-4739-bbef-9d143f517f3d",
       "rows": [
        [
         "0",
         "VAZQUEZ GUEVARA,MIGUEL ANGEL",
         "VAZQUEZ GUEVARA,MIGUEL ANGEL",
         "100.0"
        ],
        [
         "1",
         "DOMINGUEZ ESQUIVEL,JOSE MANUEL",
         "DOMINGUEZ ESQUIVEL,JOSE MANUEL",
         "100.0"
        ],
        [
         "2",
         "MIRANDA OLVERA,ALMA DELIA",
         "MIRANDA OLVERA,ALMA DELIA",
         "100.0"
        ],
        [
         "3",
         "FLORES SANCHEZ,PATRICIA",
         "FLORES SANCHEZ,PATRICIA",
         "100.0"
        ],
        [
         "4",
         "ABURTO ANELL,JORGE ARTURO",
         "ABURTO ANELL,JORGE ARTURO",
         "100.0"
        ],
        [
         "5",
         "REYES VIDAL,MARIA YOLANDA",
         "REYES VIDAL,MARIA YOLANDA",
         "100.0"
        ],
        [
         "6",
         "MARIN CRUZ,JESUS",
         "MARIN CRUZ,JESUS",
         "100.0"
        ],
        [
         "7",
         "VEGA PAZ,ARACELI",
         "VEGA PAZ,ARACELI",
         "100.0"
        ],
        [
         "8",
         "MONTIEL SANCHEZ,LUISA ELENA",
         "MONTIEL SANCHEZ,LUISA ELENA",
         "100.0"
        ],
        [
         "9",
         "MARTINEZ PALOU,RAFAEL",
         "MARTINEZ PALOU,RAFAEL",
         "100.0"
        ],
        [
         "10",
         "QUEJ AKE,LUIS MANUEL",
         "QUEJ AKE,LUIS MANUEL",
         "100.0"
        ],
        [
         "11",
         "SANCHEZ GARCIA,VERONICA",
         "SANCHEZ GARCIA,VERONICA",
         "100.0"
        ],
        [
         "12",
         "BENITEZ AGUILAR,JOSE LUIS RODOLFO",
         "BENITEZ AGUILAR,JOSE LUIS RODOLFO",
         "100.0"
        ],
        [
         "13",
         "CASTILLO CERVANTES,SALVADOR",
         "CASTILLO CERVANTES,SALVADOR",
         "100.0"
        ],
        [
         "14",
         "HERNANDEZ GONZALEZ,GUILLERMO",
         "HERNANDEZ GONZALEZ,GUILLERMO",
         "100.0"
        ],
        [
         "15",
         "MEJIA CENTENO,ISIDRO",
         "MEJIA CENTENO,ISIDRO",
         "100.0"
        ],
        [
         "16",
         "VARGAS ESCUDERO,ALFREDO",
         "VARGAS ESCUDERO,ALFREDO",
         "100.0"
        ],
        [
         "17",
         "MORAN PINEDA,FLORENCIA MARINA",
         "MORAN PINEDA,FLORENCIA MARINA",
         "100.0"
        ],
        [
         "18",
         "CAMPOSECO SOLIS,ROBERTO",
         "CAMPOSECO SOLIS,ROBERTO",
         "100.0"
        ],
        [
         "19",
         "NAVARRETE BOLANOS,JUAN",
         "NAVARRETE BOLANOS,JUAN",
         "100.0"
        ],
        [
         "20",
         "GOMEZ RAMIREZ,MARLENNE",
         "GOMEZ RAMIREZ,MARLENNE",
         "100.0"
        ],
        [
         "21",
         "GARCIA DE LEON,ROBERTO",
         "GARCIA DE LEON,ROBERTO",
         "100.0"
        ],
        [
         "22",
         "ROJAS AVELIZAPA,NORMA GABRIELA",
         "ROJAS AVELIZAPA,NORMA GABRIELA",
         "100.0"
        ],
        [
         "23",
         "HERNANDEZ GAMA,REGINA",
         "HERNANDEZ GAMA,REGINA",
         "100.0"
        ],
        [
         "24",
         "SANCHEZ GARCIA,SERGIO",
         "SANCHEZ GARCIA,SERGIO",
         "100.0"
        ],
        [
         "25",
         "VILLANUEVA PONCE,RODRIGO",
         "VILLANUEVA PONCE,RODRIGO",
         "100.0"
        ],
        [
         "26",
         "MEJIA PEREZ,GUSTAVO",
         "MEJIA PEREZ,GUSTAVO",
         "100.0"
        ],
        [
         "27",
         "ANCHEYTA JUAREZ,JORGE",
         "ANCHEYTA JUAREZ,JORGE",
         "100.0"
        ],
        [
         "28",
         "RAMIREZ SOLIS,JORGE FERNANDO",
         "RAMIREZ SOLIS,JORGE FERNANDO",
         "100.0"
        ],
        [
         "29",
         "RAYO MAYORAL,PATRICIA",
         "RAYO MAYORAL,PATRICIA",
         "100.0"
        ],
        [
         "30",
         "CENTENO NOLASCO,GUILLERMO",
         "CENTENO NOLASCO,GUILLERMO",
         "100.0"
        ],
        [
         "31",
         "MARROQUIN SANCHEZ,GUSTAVO JESUS",
         "MARROQUIN SANCHEZ,GUSTAVO JESUS",
         "100.0"
        ],
        [
         "32",
         "BELTRAN CONDE,HIRAM ISAAC",
         "BELTRAN CONDE,HIRAM ISAAC",
         "100.0"
        ],
        [
         "33",
         "ZAMUDIO RIVERA,LUIS SILVESTRE",
         "ZAMUDIO RIVERA,LUIS SILVESTRE",
         "100.0"
        ],
        [
         "34",
         "DOMINGUEZ AGUILAR,MARCO ANTONIO",
         "DOMINGUEZ AGUILAR,MARCO ANTONIO",
         "100.0"
        ],
        [
         "35",
         "MENA CERVANTES,VIOLETA YASMIN",
         "MENA CERVANTES,VIOLETA YASMIN",
         "100.0"
        ],
        [
         "36",
         "HERNANDEZ ALTAMIRANO,RAUL",
         "HERNANDEZ ALTAMIRANO,RAUL",
         "100.0"
        ],
        [
         "37",
         "VAZQUEZ MORENO,FLAVIO SALVADOR",
         "VAZQUEZ MORENO,FLAVIO SALVADOR",
         "100.0"
        ],
        [
         "38",
         "ALVAREZ RAMIREZ,FERNANDO",
         "ALVAREZ RAMIREZ,FERNANDO",
         "100.0"
        ],
        [
         "39",
         "HERNANDEZ CORTEZ,JOSE GONZALO",
         "HERNANDEZ CORTEZ,JOSE GONZALO",
         "100.0"
        ],
        [
         "40",
         "CASTRO SOTELO,LAURA VERONICA",
         "CASTRO SOTELO,LAURA VERONICA",
         "100.0"
        ],
        [
         "41",
         "FLORES SANDOVAL,CESAR ANDRES",
         "FLORES SANDOVAL,CESAR ANDRES",
         "100.0"
        ],
        [
         "42",
         "FLORES OROPEZA,EUGENIO ALEJANDRO",
         "FLORES OROPEZA,EUGENIO ALEJANDRO",
         "100.0"
        ],
        [
         "43",
         "REYES MARTINEZ,REYNA",
         "REYES MARTINEZ,REYNA",
         "100.0"
        ],
        [
         "44",
         "MAYA FLORES,ETEL",
         "MAYA FLORES,ETEL",
         "100.0"
        ],
        [
         "45",
         "SANCHEZ VALENTE,JAIME",
         "SANCHEZ VALENTE,JAIME",
         "100.0"
        ],
        [
         "46",
         "QUINTANA SOLORZANO,ROBERTO",
         "QUINTANA SOLORZANO,ROBERTO",
         "100.0"
        ],
        [
         "47",
         "DEL ANGEL VICENTE,PAZ",
         "DEL ANGEL VICENTE,PAZ",
         "100.0"
        ],
        [
         "48",
         "ARMENDARIZ HERRERA,HECTOR",
         "ARMENDARIZ HERRERA,HECTOR",
         "100.0"
        ],
        [
         "49",
         "GUZMAN CASTILLO,MARIA DE LOURDES ALEJANDRA",
         "GUZMAN CASTILLO,MARIA DE LOURDES ALEJANDRA",
         "100.0"
        ]
       ],
       "shape": {
        "columns": 3,
        "rows": 611
       }
      },
      "text/html": [
       "<div>\n",
       "<style scoped>\n",
       "    .dataframe tbody tr th:only-of-type {\n",
       "        vertical-align: middle;\n",
       "    }\n",
       "\n",
       "    .dataframe tbody tr th {\n",
       "        vertical-align: top;\n",
       "    }\n",
       "\n",
       "    .dataframe thead th {\n",
       "        text-align: right;\n",
       "    }\n",
       "</style>\n",
       "<table border=\"1\" class=\"dataframe\">\n",
       "  <thead>\n",
       "    <tr style=\"text-align: right;\">\n",
       "      <th></th>\n",
       "      <th>NOMBRE DEL INVESTIGADOR</th>\n",
       "      <th>NOMBRE_INVENTOR</th>\n",
       "      <th>Ratio</th>\n",
       "    </tr>\n",
       "  </thead>\n",
       "  <tbody>\n",
       "    <tr>\n",
       "      <th>0</th>\n",
       "      <td>VAZQUEZ GUEVARA,MIGUEL ANGEL</td>\n",
       "      <td>VAZQUEZ GUEVARA,MIGUEL ANGEL</td>\n",
       "      <td>100.0</td>\n",
       "    </tr>\n",
       "    <tr>\n",
       "      <th>1</th>\n",
       "      <td>DOMINGUEZ ESQUIVEL,JOSE MANUEL</td>\n",
       "      <td>DOMINGUEZ ESQUIVEL,JOSE MANUEL</td>\n",
       "      <td>100.0</td>\n",
       "    </tr>\n",
       "    <tr>\n",
       "      <th>2</th>\n",
       "      <td>MIRANDA OLVERA,ALMA DELIA</td>\n",
       "      <td>MIRANDA OLVERA,ALMA DELIA</td>\n",
       "      <td>100.0</td>\n",
       "    </tr>\n",
       "    <tr>\n",
       "      <th>3</th>\n",
       "      <td>FLORES SANCHEZ,PATRICIA</td>\n",
       "      <td>FLORES SANCHEZ,PATRICIA</td>\n",
       "      <td>100.0</td>\n",
       "    </tr>\n",
       "    <tr>\n",
       "      <th>4</th>\n",
       "      <td>ABURTO ANELL,JORGE ARTURO</td>\n",
       "      <td>ABURTO ANELL,JORGE ARTURO</td>\n",
       "      <td>100.0</td>\n",
       "    </tr>\n",
       "    <tr>\n",
       "      <th>...</th>\n",
       "      <td>...</td>\n",
       "      <td>...</td>\n",
       "      <td>...</td>\n",
       "    </tr>\n",
       "    <tr>\n",
       "      <th>606</th>\n",
       "      <td>AGUILAR ARMENDARIZ,RAMON ALBERTO</td>\n",
       "      <td>AGUILAR ARMENDARIZ,RAMON ALBERTO</td>\n",
       "      <td>100.0</td>\n",
       "    </tr>\n",
       "    <tr>\n",
       "      <th>607</th>\n",
       "      <td>SACRISTAN ROCK,EMILIO</td>\n",
       "      <td>SACRISTAN ROCK,EMILIO</td>\n",
       "      <td>100.0</td>\n",
       "    </tr>\n",
       "    <tr>\n",
       "      <th>608</th>\n",
       "      <td>ALONSO VILATELA,MARIA ELISA</td>\n",
       "      <td>ALONSO VILATELA,MARIA ELISA</td>\n",
       "      <td>100.0</td>\n",
       "    </tr>\n",
       "    <tr>\n",
       "      <th>609</th>\n",
       "      <td>VILLARREAL TREVINO,JUAN ANTONIO</td>\n",
       "      <td>VILLARREAL TREVINO,JUAN ANTONIO</td>\n",
       "      <td>100.0</td>\n",
       "    </tr>\n",
       "    <tr>\n",
       "      <th>610</th>\n",
       "      <td>LIU,HONGBO</td>\n",
       "      <td>LIU,HONGBO</td>\n",
       "      <td>100.0</td>\n",
       "    </tr>\n",
       "  </tbody>\n",
       "</table>\n",
       "<p>611 rows × 3 columns</p>\n",
       "</div>"
      ],
      "text/plain": [
       "              NOMBRE DEL INVESTIGADOR                   NOMBRE_INVENTOR  Ratio\n",
       "0        VAZQUEZ GUEVARA,MIGUEL ANGEL      VAZQUEZ GUEVARA,MIGUEL ANGEL  100.0\n",
       "1      DOMINGUEZ ESQUIVEL,JOSE MANUEL    DOMINGUEZ ESQUIVEL,JOSE MANUEL  100.0\n",
       "2           MIRANDA OLVERA,ALMA DELIA         MIRANDA OLVERA,ALMA DELIA  100.0\n",
       "3             FLORES SANCHEZ,PATRICIA           FLORES SANCHEZ,PATRICIA  100.0\n",
       "4           ABURTO ANELL,JORGE ARTURO         ABURTO ANELL,JORGE ARTURO  100.0\n",
       "..                                ...                               ...    ...\n",
       "606  AGUILAR ARMENDARIZ,RAMON ALBERTO  AGUILAR ARMENDARIZ,RAMON ALBERTO  100.0\n",
       "607             SACRISTAN ROCK,EMILIO             SACRISTAN ROCK,EMILIO  100.0\n",
       "608       ALONSO VILATELA,MARIA ELISA       ALONSO VILATELA,MARIA ELISA  100.0\n",
       "609   VILLARREAL TREVINO,JUAN ANTONIO   VILLARREAL TREVINO,JUAN ANTONIO  100.0\n",
       "610                        LIU,HONGBO                        LIU,HONGBO  100.0\n",
       "\n",
       "[611 rows x 3 columns]"
      ]
     },
     "execution_count": 6,
     "metadata": {},
     "output_type": "execute_result"
    }
   ],
   "source": [
    "df_new = pd.read_csv('Coincidencias.csv')\n",
    "df_new"
   ]
  },
  {
   "cell_type": "code",
   "execution_count": 7,
   "metadata": {},
   "outputs": [
    {
     "data": {
      "application/vnd.microsoft.datawrangler.viewer.v0+json": {
       "columns": [
        {
         "name": "index",
         "rawType": "int64",
         "type": "integer"
        },
        {
         "name": "NOMBRE_INVENTOR",
         "rawType": "object",
         "type": "string"
        }
       ],
       "conversionMethod": "pd.DataFrame",
       "ref": "bc82e657-ae68-4d3b-b600-8d39783a431b",
       "rows": [
        [
         "0",
         "Valadez Lopez,Jose Juan"
        ],
        [
         "1",
         "ZUBIRIA ELIZONDO,Miguel Jorge"
        ],
        [
         "2",
         "Choudhury,Rezaul"
        ],
        [
         "3",
         "Zapata Abdala,Ohster Edga"
        ],
        [
         "4",
         "Medina Valencia,Verona"
        ],
        [
         "5",
         "Ramirez Sosa,Pamela Shantal"
        ],
        [
         "6",
         "Moran Delgado,Bertha"
        ],
        [
         "7",
         "Escobar Lopez,Alfredo"
        ],
        [
         "8",
         "Quintero Barajas,Jose Gabriel"
        ],
        [
         "9",
         "Bulbarela Croda,Arturo"
        ],
        [
         "10",
         "Vazquez Guevara,Miguel Angel"
        ],
        [
         "11",
         "Lopez Vallejo,Fabiola Irene"
        ],
        [
         "12",
         "Dominguez Esquivel,Jose Manuel"
        ],
        [
         "13",
         "Miranda Olvera,Alma Delia"
        ],
        [
         "14",
         "Alarcon Hernandez,Jesus Alfonso"
        ],
        [
         "15",
         "Perkins,Donald M"
        ],
        [
         "16",
         "Martinez,Alfredo"
        ],
        [
         "17",
         "Vazquez,Francisco Javier"
        ],
        [
         "18",
         "Astigarraga,Tara"
        ],
        [
         "19",
         "Sondhi,Neil"
        ],
        [
         "20",
         "Goldberg,Itzhack"
        ],
        [
         "21",
         "Mosqueda Mejia,Jose R"
        ],
        [
         "22",
         "Torres Gomez,Carlos"
        ],
        [
         "23",
         "Torres Quiroga,Jose Odon"
        ],
        [
         "24",
         "Romero Regalado,Adrian"
        ],
        [
         "25",
         "Sic,Steven"
        ],
        [
         "26",
         "Cordero,Alejandro Cortina"
        ],
        [
         "27",
         "Cordero,Jose"
        ],
        [
         "28",
         "Ortega,Jose Pablo Cortina"
        ],
        [
         "29",
         "Moreno,Humberto"
        ],
        [
         "30",
         "Mandujano,Luis Alberto Aguado"
        ],
        [
         "31",
         "Ramirez,Juan Leonardo Soria"
        ],
        [
         "32",
         "Arciga,Ismael Orozco"
        ],
        [
         "33",
         "Yang,Zane"
        ],
        [
         "34",
         "Arhab,Rabah"
        ],
        [
         "35",
         "Kovac,Josip"
        ],
        [
         "36",
         "Medellin,Alfonso"
        ],
        [
         "37",
         "Lee,Sungchul"
        ],
        [
         "38",
         "Orozco Perez,Juan Alberto de Jesus"
        ],
        [
         "39",
         "Hernandez,Alejandro Gerardo Veyna"
        ],
        [
         "40",
         "Novak,Michael"
        ],
        [
         "41",
         "Ugolick,Ronald"
        ],
        [
         "42",
         "Hodsdon,Jerry G"
        ],
        [
         "43",
         "Hong,Le Hoa"
        ],
        [
         "44",
         "Brisee,Florence M"
        ],
        [
         "45",
         "Villegas,Gildardo Ramirez"
        ],
        [
         "46",
         "Aguiluz Aceves,Antonio Juan Ignacio"
        ],
        [
         "47",
         "Flores Sanchez,Patricia"
        ],
        [
         "48",
         "Aburto Anell,Jorge Arturo"
        ],
        [
         "49",
         "Huelke,David"
        ]
       ],
       "shape": {
        "columns": 1,
        "rows": 11890
       }
      },
      "text/html": [
       "<div>\n",
       "<style scoped>\n",
       "    .dataframe tbody tr th:only-of-type {\n",
       "        vertical-align: middle;\n",
       "    }\n",
       "\n",
       "    .dataframe tbody tr th {\n",
       "        vertical-align: top;\n",
       "    }\n",
       "\n",
       "    .dataframe thead th {\n",
       "        text-align: right;\n",
       "    }\n",
       "</style>\n",
       "<table border=\"1\" class=\"dataframe\">\n",
       "  <thead>\n",
       "    <tr style=\"text-align: right;\">\n",
       "      <th></th>\n",
       "      <th>NOMBRE_INVENTOR</th>\n",
       "    </tr>\n",
       "  </thead>\n",
       "  <tbody>\n",
       "    <tr>\n",
       "      <th>0</th>\n",
       "      <td>Valadez Lopez,Jose Juan</td>\n",
       "    </tr>\n",
       "    <tr>\n",
       "      <th>1</th>\n",
       "      <td>ZUBIRIA ELIZONDO,Miguel Jorge</td>\n",
       "    </tr>\n",
       "    <tr>\n",
       "      <th>2</th>\n",
       "      <td>Choudhury,Rezaul</td>\n",
       "    </tr>\n",
       "    <tr>\n",
       "      <th>3</th>\n",
       "      <td>Zapata Abdala,Ohster Edga</td>\n",
       "    </tr>\n",
       "    <tr>\n",
       "      <th>4</th>\n",
       "      <td>Medina Valencia,Verona</td>\n",
       "    </tr>\n",
       "    <tr>\n",
       "      <th>...</th>\n",
       "      <td>...</td>\n",
       "    </tr>\n",
       "    <tr>\n",
       "      <th>11885</th>\n",
       "      <td>Gerald Donner,Christopher</td>\n",
       "    </tr>\n",
       "    <tr>\n",
       "      <th>11886</th>\n",
       "      <td>Laguera Garza,Marcelo Garza</td>\n",
       "    </tr>\n",
       "    <tr>\n",
       "      <th>11887</th>\n",
       "      <td>Luke Molnar,Terence</td>\n",
       "    </tr>\n",
       "    <tr>\n",
       "      <th>11888</th>\n",
       "      <td>Felipe Ortega,Daniel</td>\n",
       "    </tr>\n",
       "    <tr>\n",
       "      <th>11889</th>\n",
       "      <td>N Franklin,David</td>\n",
       "    </tr>\n",
       "  </tbody>\n",
       "</table>\n",
       "<p>11890 rows × 1 columns</p>\n",
       "</div>"
      ],
      "text/plain": [
       "                     NOMBRE_INVENTOR\n",
       "0            Valadez Lopez,Jose Juan\n",
       "1      ZUBIRIA ELIZONDO,Miguel Jorge\n",
       "2                   Choudhury,Rezaul\n",
       "3          Zapata Abdala,Ohster Edga\n",
       "4             Medina Valencia,Verona\n",
       "...                              ...\n",
       "11885      Gerald Donner,Christopher\n",
       "11886    Laguera Garza,Marcelo Garza\n",
       "11887            Luke Molnar,Terence\n",
       "11888           Felipe Ortega,Daniel\n",
       "11889               N Franklin,David\n",
       "\n",
       "[11890 rows x 1 columns]"
      ]
     },
     "execution_count": 7,
     "metadata": {},
     "output_type": "execute_result"
    }
   ],
   "source": [
    "df_PATENTE = pd.read_csv('listaNombresPatentes.csv')\n",
    "df_PATENTE"
   ]
  },
  {
   "cell_type": "code",
   "execution_count": 8,
   "metadata": {},
   "outputs": [
    {
     "data": {
      "application/vnd.microsoft.datawrangler.viewer.v0+json": {
       "columns": [
        {
         "name": "index",
         "rawType": "int64",
         "type": "integer"
        },
        {
         "name": "NOMBRE DEL INVESTIGADOR",
         "rawType": "object",
         "type": "string"
        }
       ],
       "conversionMethod": "pd.DataFrame",
       "ref": "58116eb8-d8a7-4bb9-a539-b39c08c04198",
       "rows": [
        [
         "0",
         "AALI BUJARI,ALI"
        ],
        [
         "1",
         "AANSTANT,CHLOE LUCIENNE MARGUERITE"
        ],
        [
         "2",
         "AARLAND,RAYN CLARENC"
        ],
        [
         "3",
         "ABA GUEVARA,CINTHIA GUADALUPE"
        ],
        [
         "4",
         "ABAD JAVIER,MARIO EDUARDO"
        ],
        [
         "5",
         "ABAD ZAVALETA,JOSE"
        ],
        [
         "6",
         "ABADIA CARDOSO,ALICIA"
        ],
        [
         "7",
         "ABADIA GARCIA,LUCIA GUADALUPE"
        ],
        [
         "8",
         "ABARCA ARENAS,LUIS GERARDO"
        ],
        [
         "9",
         "ABARCA BUIS,RENE FERNANDO"
        ],
        [
         "10",
         "ABARCA CASTRO,ERIC ALONSO"
        ],
        [
         "11",
         "ABARCA CEDENO,MIREYA SARAHI"
        ],
        [
         "12",
         "ABARCA FUENTE,SERGIO FEDERICO"
        ],
        [
         "13",
         "ABARCA GARCIA,CESAR ANTONIO"
        ],
        [
         "14",
         "ABARCA JIMENEZ,GRISELDA STEPHANY"
        ],
        [
         "15",
         "ABARCA PEREZ,LEONARDO"
        ],
        [
         "16",
         "ABARCA RODRIGUEZ,MARCO ANTONIO"
        ],
        [
         "17",
         "ABARCA ROJANO,EDGAR"
        ],
        [
         "18",
         "ABARCA VARGAS,RODOLFO"
        ],
        [
         "19",
         "ABASCAL MENA,MARIA DEL ROCIO"
        ],
        [
         "20",
         "ABASCAL SHERWELL RAULL,PABLO"
        ],
        [
         "21",
         "ABASOLO PACHECO,FERNANDO"
        ],
        [
         "22",
         "ABASOLO PALACIO,VICTOR ENRIQUE"
        ],
        [
         "23",
         "ABATAL,MOHAMED"
        ],
        [
         "24",
         "ABATO ZARATE,MARYCRUZ"
        ],
        [
         "25",
         "ABAUNZA GONZALEZ,HERNAN"
        ],
        [
         "26",
         "ABBAS,ASAD"
        ],
        [
         "27",
         "ABBRUZZINI,THALITA FERNANDA"
        ],
        [
         "28",
         "ABBUD LOZOYA,KARIN AYME"
        ],
        [
         "29",
         "ABDALA ROBERTS,LUIS ALEJANDRO"
        ],
        [
         "30",
         "ABDELFATAH,AMIRA AHMED TAWFEE"
        ],
        [
         "31",
         "ABDO DE LA PARRA,MARIA ISABEL"
        ],
        [
         "32",
         "ABDULLAEV JAFAROVA,FIKRAT"
        ],
        [
         "33",
         "ABDULLIN,FANIS"
        ],
        [
         "34",
         "ABELDANO ZUNIGA,ROBERTO ARIEL"
        ],
        [
         "35",
         "ABELINO TORRES,GONZALO"
        ],
        [
         "36",
         "ABELLA MEDRANO,CARLOS ANTONIO"
        ],
        [
         "37",
         "ABELLAN FERNANDEZ,JORDI"
        ],
        [
         "38",
         "ABENOJAR SANJUAN,OSCAR"
        ],
        [
         "39",
         "ABITIA CARDENAS,LEONARDO ANDRES"
        ],
        [
         "40",
         "ABLANEDO TERRAZAS,YURIA"
        ],
        [
         "41",
         "ABOITES AGUILAR,JAIME"
        ],
        [
         "42",
         "ABOITES AGUILAR,LUIS"
        ],
        [
         "43",
         "ABOITES MANRIQUE,GILBERTO"
        ],
        [
         "44",
         "ABOITES MANRIQUE,VICENTE"
        ],
        [
         "45",
         "ABONCE MEZA,RAMON"
        ],
        [
         "46",
         "ABOYTES GARCIA,FLORENCIO"
        ],
        [
         "47",
         "ABOYTES GONZALEZ,JESUS AGUSTIN"
        ],
        [
         "48",
         "ABRAHAM JUAREZ,MARIA DEL ROSARIO"
        ],
        [
         "49",
         "ABRAHAM JUAREZ,MARIA JAZMIN"
        ]
       ],
       "shape": {
        "columns": 1,
        "rows": 57186
       }
      },
      "text/html": [
       "<div>\n",
       "<style scoped>\n",
       "    .dataframe tbody tr th:only-of-type {\n",
       "        vertical-align: middle;\n",
       "    }\n",
       "\n",
       "    .dataframe tbody tr th {\n",
       "        vertical-align: top;\n",
       "    }\n",
       "\n",
       "    .dataframe thead th {\n",
       "        text-align: right;\n",
       "    }\n",
       "</style>\n",
       "<table border=\"1\" class=\"dataframe\">\n",
       "  <thead>\n",
       "    <tr style=\"text-align: right;\">\n",
       "      <th></th>\n",
       "      <th>NOMBRE DEL INVESTIGADOR</th>\n",
       "    </tr>\n",
       "  </thead>\n",
       "  <tbody>\n",
       "    <tr>\n",
       "      <th>0</th>\n",
       "      <td>AALI BUJARI,ALI</td>\n",
       "    </tr>\n",
       "    <tr>\n",
       "      <th>1</th>\n",
       "      <td>AANSTANT,CHLOE LUCIENNE MARGUERITE</td>\n",
       "    </tr>\n",
       "    <tr>\n",
       "      <th>2</th>\n",
       "      <td>AARLAND,RAYN CLARENC</td>\n",
       "    </tr>\n",
       "    <tr>\n",
       "      <th>3</th>\n",
       "      <td>ABA GUEVARA,CINTHIA GUADALUPE</td>\n",
       "    </tr>\n",
       "    <tr>\n",
       "      <th>4</th>\n",
       "      <td>ABAD JAVIER,MARIO EDUARDO</td>\n",
       "    </tr>\n",
       "    <tr>\n",
       "      <th>...</th>\n",
       "      <td>...</td>\n",
       "    </tr>\n",
       "    <tr>\n",
       "      <th>57181</th>\n",
       "      <td>ZURITA MENDEZ,NANCY NELLY</td>\n",
       "    </tr>\n",
       "    <tr>\n",
       "      <th>57182</th>\n",
       "      <td>ZURITA ORTEGA,MARIO ENRIQUE</td>\n",
       "    </tr>\n",
       "    <tr>\n",
       "      <th>57183</th>\n",
       "      <td>ZURITA RIVERA,URSULA DEL CARMEN</td>\n",
       "    </tr>\n",
       "    <tr>\n",
       "      <th>57184</th>\n",
       "      <td>ZURITA SANCHEZ,JORGE ROBERTO</td>\n",
       "    </tr>\n",
       "    <tr>\n",
       "      <th>57185</th>\n",
       "      <td>ZUVERZA MENA,NUBIA</td>\n",
       "    </tr>\n",
       "  </tbody>\n",
       "</table>\n",
       "<p>57186 rows × 1 columns</p>\n",
       "</div>"
      ],
      "text/plain": [
       "                  NOMBRE DEL INVESTIGADOR\n",
       "0                         AALI BUJARI,ALI\n",
       "1      AANSTANT,CHLOE LUCIENNE MARGUERITE\n",
       "2                    AARLAND,RAYN CLARENC\n",
       "3           ABA GUEVARA,CINTHIA GUADALUPE\n",
       "4               ABAD JAVIER,MARIO EDUARDO\n",
       "...                                   ...\n",
       "57181           ZURITA MENDEZ,NANCY NELLY\n",
       "57182         ZURITA ORTEGA,MARIO ENRIQUE\n",
       "57183     ZURITA RIVERA,URSULA DEL CARMEN\n",
       "57184        ZURITA SANCHEZ,JORGE ROBERTO\n",
       "57185                  ZUVERZA MENA,NUBIA\n",
       "\n",
       "[57186 rows x 1 columns]"
      ]
     },
     "execution_count": 8,
     "metadata": {},
     "output_type": "execute_result"
    }
   ],
   "source": [
    "df_SNII = pd.read_csv('Nombres_Limpios_Final.csv')\n",
    "df_SNII"
   ]
  },
  {
   "cell_type": "code",
   "execution_count": 9,
   "metadata": {},
   "outputs": [
    {
     "data": {
      "application/vnd.microsoft.datawrangler.viewer.v0+json": {
       "columns": [
        {
         "name": "index",
         "rawType": "int64",
         "type": "integer"
        },
        {
         "name": "NOMBRE DEL INVESTIGADOR",
         "rawType": "object",
         "type": "string"
        },
        {
         "name": "NOMBRE_INVENTOR",
         "rawType": "object",
         "type": "string"
        },
        {
         "name": "Ratio",
         "rawType": "float64",
         "type": "float"
        }
       ],
       "conversionMethod": "pd.DataFrame",
       "ref": "08cdd7f3-fdc5-4a01-9ae0-8de346259048",
       "rows": [
        [
         "0",
         "VAZQUEZ GUEVARA,MIGUEL ANGEL",
         "VAZQUEZ GUEVARA,MIGUEL ANGEL",
         "100.0"
        ],
        [
         "1",
         "DOMINGUEZ ESQUIVEL,JOSE MANUEL",
         "DOMINGUEZ ESQUIVEL,JOSE MANUEL",
         "100.0"
        ],
        [
         "2",
         "MIRANDA OLVERA,ALMA DELIA",
         "MIRANDA OLVERA,ALMA DELIA",
         "100.0"
        ],
        [
         "3",
         "MARTINEZ,ALFREDO",
         "BARRALES MARTINEZ,ALFREDO",
         "100.0"
        ],
        [
         "4",
         "MARTINEZ,ALFREDO",
         "CERVANTES MARTINEZ,ALFREDO EDUARDO",
         "100.0"
        ],
        [
         "5",
         "MARTINEZ,ALFREDO",
         "LAGUNAS MARTINEZ,ALFREDO",
         "100.0"
        ],
        [
         "6",
         "MARTINEZ,ALFREDO",
         "ORDENANA MARTINEZ,ALFREDO SILVERIO",
         "100.0"
        ],
        [
         "7",
         "MARTINEZ,ALFREDO",
         "ROSAS MARTINEZ,ALFREDO",
         "100.0"
        ],
        [
         "8",
         "VAZQUEZ,FRANCISCO JAVIER",
         "LUNA VAZQUEZ,FRANCISCO JAVIER",
         "100.0"
        ],
        [
         "9",
         "VAZQUEZ,FRANCISCO JAVIER",
         "PEREZ VAZQUEZ,FRANCISCO JAVIER",
         "100.0"
        ],
        [
         "10",
         "CORDERO,JOSE",
         "GARCIA CORDERO,JOSE LUIS",
         "100.0"
        ],
        [
         "11",
         "MORENO,HUMBERTO",
         "GONZALEZ MORENO,HUMBERTO RAYMUNDO",
         "100.0"
        ],
        [
         "12",
         "MORENO,HUMBERTO",
         "MORALES MORENO,HUMBERTO",
         "100.0"
        ],
        [
         "13",
         "FLORES SANCHEZ,PATRICIA",
         "FLORES SANCHEZ,PATRICIA",
         "100.0"
        ],
        [
         "14",
         "ABURTO ANELL,JORGE ARTURO",
         "ABURTO ANELL,JORGE ARTURO",
         "100.0"
        ],
        [
         "15",
         "CASTRO,SERGIO",
         "ALCOCER MARTINEZ DE CASTRO,SERGIO MANUEL",
         "100.0"
        ],
        [
         "16",
         "CASTRO,SERGIO",
         "ZAMORA CASTRO,SERGIO AURELIO",
         "100.0"
        ],
        [
         "17",
         "REYES VIDAL,MARIA YOLANDA",
         "REYES VIDAL,MARIA YOLANDA",
         "100.0"
        ],
        [
         "18",
         "ASAFF TORRES,ALI",
         "ASAFF TORRES,ALI JESUS",
         "100.0"
        ],
        [
         "19",
         "MARIN CRUZ,JESUS",
         "MARIN CRUZ,JESUS",
         "100.0"
        ],
        [
         "20",
         "VEGA PAZ,ARACELI",
         "VEGA PAZ,ARACELI",
         "100.0"
        ],
        [
         "21",
         "MONTIEL SANCHEZ,LUISA ELENA",
         "MONTIEL SANCHEZ,LUISA ELENA",
         "100.0"
        ],
        [
         "22",
         "MARTINEZ PALOU,RAFAEL",
         "MARTINEZ PALOU,RAFAEL",
         "100.0"
        ],
        [
         "23",
         "QUEJ AKE,LUIS MANUEL",
         "QUEJ AKE,LUIS MANUEL",
         "100.0"
        ],
        [
         "24",
         "SANCHEZ GARCIA,VERONICA",
         "SANCHEZ GARCIA,VERONICA",
         "100.0"
        ],
        [
         "25",
         "BENITEZ AGUILAR,JOSE LUIS RODOLFO",
         "BENITEZ AGUILAR,JOSE LUIS RODOLFO",
         "100.0"
        ],
        [
         "26",
         "CASTILLO CERVANTES,SALVADOR",
         "CASTILLO CERVANTES,SALVADOR",
         "100.0"
        ],
        [
         "27",
         "HERNANDEZ GONZALEZ,GUILLERMO",
         "HERNANDEZ GONZALEZ,GUILLERMO",
         "100.0"
        ],
        [
         "28",
         "MORALES,JESUS R",
         "DE LEON MORALES,JESUS",
         "92.85714285714286"
        ],
        [
         "29",
         "MORALES,JESUS R",
         "MARTINEZ MORALES,JESUS FLAVIO",
         "92.85714285714286"
        ],
        [
         "30",
         "MORALES,JESUS R",
         "RESENDIZ MORALES,JESUS EDUARDO",
         "92.85714285714286"
        ],
        [
         "31",
         "MORALES,JESUS R",
         "ROMO MORALES,JESUS GERARDO",
         "92.85714285714286"
        ],
        [
         "32",
         "MEJIA CENTENO,ISIDRO",
         "MEJIA CENTENO,ISIDRO",
         "100.0"
        ],
        [
         "33",
         "MONTOYA DE LA FUENTE,J ASCENSION",
         "MONTOYA DE LA FUENTE,J. ASCENCION",
         "95.3846153846154"
        ],
        [
         "34",
         "VARGAS ESCUDERO,ALFREDO",
         "VARGAS ESCUDERO,ALFREDO",
         "100.0"
        ],
        [
         "35",
         "MORAN PINEDA,FLORENCIA MARINA",
         "MORAN PINEDA,FLORENCIA MARINA",
         "100.0"
        ],
        [
         "36",
         "CAMPOSECO SOLIS,ROBERTO",
         "CAMPOSECO SOLIS,ROBERTO",
         "100.0"
        ],
        [
         "37",
         "NAVARRETE BOLANOS,JUAN",
         "NAVARRETE BOLANOS,JUAN",
         "100.0"
        ],
        [
         "38",
         "GOMEZ RAMIREZ,MARLENNE",
         "GOMEZ RAMIREZ,MARLENNE",
         "100.0"
        ],
        [
         "39",
         "GARCIA DE LEON,ROBERTO",
         "GARCIA DE LEON,ROBERTO",
         "100.0"
        ],
        [
         "40",
         "ROJAS AVELIZAPA,NORMA GABRIELA",
         "ROJAS AVELIZAPA,NORMA GABRIELA",
         "100.0"
        ],
        [
         "41",
         "HERNANDEZ GAMA,REGINA",
         "HERNANDEZ GAMA,REGINA",
         "100.0"
        ],
        [
         "42",
         "GOMEZ,ALEJANDRO",
         "ALONSO GOMEZ,ALEJANDRO RAFAEL",
         "100.0"
        ],
        [
         "43",
         "GOMEZ,ALEJANDRO",
         "GARZA GOMEZ,ALEJANDRO",
         "100.0"
        ],
        [
         "44",
         "GOMEZ,ALEJANDRO",
         "GIMENEZ GOMEZ,ALEJANDRO JOSE",
         "100.0"
        ],
        [
         "45",
         "GOMEZ,ALEJANDRO",
         "GOMEZ GOMEZ,ALEJANDRO",
         "100.0"
        ],
        [
         "46",
         "GOMEZ,ALEJANDRO",
         "GONZALEZ GOMEZ,ALEJANDRO",
         "100.0"
        ],
        [
         "47",
         "HERNANDEZ,BENJAMIN",
         "GARCIA HERNANDEZ,BENJAMIN AZIEL",
         "100.0"
        ],
        [
         "48",
         "HERNANDEZ,BENJAMIN",
         "TRUJILLO HERNANDEZ,BENJAMIN",
         "100.0"
        ],
        [
         "49",
         "SANCHEZ GARCIA,SERGIO",
         "SANCHEZ GARCIA,SERGIO",
         "100.0"
        ]
       ],
       "shape": {
        "columns": 3,
        "rows": 2955
       }
      },
      "text/html": [
       "<div>\n",
       "<style scoped>\n",
       "    .dataframe tbody tr th:only-of-type {\n",
       "        vertical-align: middle;\n",
       "    }\n",
       "\n",
       "    .dataframe tbody tr th {\n",
       "        vertical-align: top;\n",
       "    }\n",
       "\n",
       "    .dataframe thead th {\n",
       "        text-align: right;\n",
       "    }\n",
       "</style>\n",
       "<table border=\"1\" class=\"dataframe\">\n",
       "  <thead>\n",
       "    <tr style=\"text-align: right;\">\n",
       "      <th></th>\n",
       "      <th>NOMBRE DEL INVESTIGADOR</th>\n",
       "      <th>NOMBRE_INVENTOR</th>\n",
       "      <th>Ratio</th>\n",
       "    </tr>\n",
       "  </thead>\n",
       "  <tbody>\n",
       "    <tr>\n",
       "      <th>0</th>\n",
       "      <td>VAZQUEZ GUEVARA,MIGUEL ANGEL</td>\n",
       "      <td>VAZQUEZ GUEVARA,MIGUEL ANGEL</td>\n",
       "      <td>100.0</td>\n",
       "    </tr>\n",
       "    <tr>\n",
       "      <th>1</th>\n",
       "      <td>DOMINGUEZ ESQUIVEL,JOSE MANUEL</td>\n",
       "      <td>DOMINGUEZ ESQUIVEL,JOSE MANUEL</td>\n",
       "      <td>100.0</td>\n",
       "    </tr>\n",
       "    <tr>\n",
       "      <th>2</th>\n",
       "      <td>MIRANDA OLVERA,ALMA DELIA</td>\n",
       "      <td>MIRANDA OLVERA,ALMA DELIA</td>\n",
       "      <td>100.0</td>\n",
       "    </tr>\n",
       "    <tr>\n",
       "      <th>3</th>\n",
       "      <td>MARTINEZ,ALFREDO</td>\n",
       "      <td>BARRALES MARTINEZ,ALFREDO</td>\n",
       "      <td>100.0</td>\n",
       "    </tr>\n",
       "    <tr>\n",
       "      <th>4</th>\n",
       "      <td>MARTINEZ,ALFREDO</td>\n",
       "      <td>CERVANTES MARTINEZ,ALFREDO EDUARDO</td>\n",
       "      <td>100.0</td>\n",
       "    </tr>\n",
       "    <tr>\n",
       "      <th>...</th>\n",
       "      <td>...</td>\n",
       "      <td>...</td>\n",
       "      <td>...</td>\n",
       "    </tr>\n",
       "    <tr>\n",
       "      <th>2950</th>\n",
       "      <td>A DIAZ,JOSE</td>\n",
       "      <td>AGUILAR DIAZ,JOSE HUGO</td>\n",
       "      <td>90.0</td>\n",
       "    </tr>\n",
       "    <tr>\n",
       "      <th>2951</th>\n",
       "      <td>A DIAZ,JOSE</td>\n",
       "      <td>BARGAS DIAZ,JOSE</td>\n",
       "      <td>90.0</td>\n",
       "    </tr>\n",
       "    <tr>\n",
       "      <th>2952</th>\n",
       "      <td>A DIAZ,JOSE</td>\n",
       "      <td>COSSIO DIAZ,JOSE RAMON</td>\n",
       "      <td>90.0</td>\n",
       "    </tr>\n",
       "    <tr>\n",
       "      <th>2953</th>\n",
       "      <td>A DIAZ,JOSE</td>\n",
       "      <td>DIAZ,JOSE SATURNINO</td>\n",
       "      <td>90.0</td>\n",
       "    </tr>\n",
       "    <tr>\n",
       "      <th>2954</th>\n",
       "      <td>A DIAZ,JOSE</td>\n",
       "      <td>ELIZALDE DIAZ,JOSE PEDRO</td>\n",
       "      <td>90.0</td>\n",
       "    </tr>\n",
       "  </tbody>\n",
       "</table>\n",
       "<p>2955 rows × 3 columns</p>\n",
       "</div>"
      ],
      "text/plain": [
       "             NOMBRE DEL INVESTIGADOR                     NOMBRE_INVENTOR  \\\n",
       "0       VAZQUEZ GUEVARA,MIGUEL ANGEL        VAZQUEZ GUEVARA,MIGUEL ANGEL   \n",
       "1     DOMINGUEZ ESQUIVEL,JOSE MANUEL      DOMINGUEZ ESQUIVEL,JOSE MANUEL   \n",
       "2          MIRANDA OLVERA,ALMA DELIA           MIRANDA OLVERA,ALMA DELIA   \n",
       "3                   MARTINEZ,ALFREDO           BARRALES MARTINEZ,ALFREDO   \n",
       "4                   MARTINEZ,ALFREDO  CERVANTES MARTINEZ,ALFREDO EDUARDO   \n",
       "...                              ...                                 ...   \n",
       "2950                     A DIAZ,JOSE              AGUILAR DIAZ,JOSE HUGO   \n",
       "2951                     A DIAZ,JOSE                    BARGAS DIAZ,JOSE   \n",
       "2952                     A DIAZ,JOSE              COSSIO DIAZ,JOSE RAMON   \n",
       "2953                     A DIAZ,JOSE                 DIAZ,JOSE SATURNINO   \n",
       "2954                     A DIAZ,JOSE            ELIZALDE DIAZ,JOSE PEDRO   \n",
       "\n",
       "      Ratio  \n",
       "0     100.0  \n",
       "1     100.0  \n",
       "2     100.0  \n",
       "3     100.0  \n",
       "4     100.0  \n",
       "...     ...  \n",
       "2950   90.0  \n",
       "2951   90.0  \n",
       "2952   90.0  \n",
       "2953   90.0  \n",
       "2954   90.0  \n",
       "\n",
       "[2955 rows x 3 columns]"
      ]
     },
     "execution_count": 9,
     "metadata": {},
     "output_type": "execute_result"
    }
   ],
   "source": [
    "df_Prenew = pd.read_csv('Pre Coincidencias.csv')\n",
    "df_Prenew"
   ]
  }
 ],
 "metadata": {
  "language_info": {
   "name": "python"
  }
 },
 "nbformat": 4,
 "nbformat_minor": 2
}
