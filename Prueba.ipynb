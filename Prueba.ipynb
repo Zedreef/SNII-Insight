{
 "cells": [
  {
   "cell_type": "code",
   "execution_count": 2,
   "metadata": {},
   "outputs": [],
   "source": [
    "import pandas as pd"
   ]
  },
  {
   "cell_type": "code",
   "execution_count": 3,
   "metadata": {},
   "outputs": [
    {
     "data": {
      "application/vnd.microsoft.datawrangler.viewer.v0+json": {
       "columns": [
        {
         "name": "index",
         "rawType": "int64",
         "type": "integer"
        },
        {
         "name": "NOMBRE DEL INVESTIGADOR",
         "rawType": "object",
         "type": "string"
        },
        {
         "name": "NOMBRE DEL INVESTIGADOR PATENTE",
         "rawType": "object",
         "type": "string"
        },
        {
         "name": "SIMILARITY",
         "rawType": "object",
         "type": "string"
        },
        {
         "name": "NOMBRE_INVESTIGADOR_NORM",
         "rawType": "object",
         "type": "string"
        },
        {
         "name": "NOMBRE_PATENTE_NORM",
         "rawType": "object",
         "type": "string"
        },
        {
         "name": "ES_MISMA_PERSONA",
         "rawType": "bool",
         "type": "boolean"
        },
        {
         "name": "SCORE",
         "rawType": "float64",
         "type": "float"
        },
        {
         "name": "DETALLES",
         "rawType": "object",
         "type": "string"
        }
       ],
       "conversionMethod": "pd.DataFrame",
       "ref": "ae7c294a-91dd-45eb-afc9-73d89806c3ed",
       "rows": [
        [
         "0",
         "ABSALON CONSTANTINO,ANGEL EDUARDO",
         "ABSALON CONSTANTINO,ANGEL EDUARDO",
         "100",
         "ABSALON CONSTANTINO,ANGEL EDUARDO",
         "ABSALON CONSTANTINO,ANGEL EDUARDO",
         "False",
         "40.0",
         "Similitud Nombre (100%)"
        ],
        [
         "1",
         "ABURTO ANELL,JORGE ARTURO",
         "ABURTO ANELL,JORGE ARTURO",
         "100",
         "ABURTO ANELL,JORGE ARTURO",
         "ABURTO ANELL,JORGE ARTURO",
         "False",
         "60.0",
         "Institución"
        ],
        [
         "2",
         "ACEVES DIEZ,ANGEL EMILIO",
         "ACEVES DIEZ,ANGEL EMILIO",
         "100",
         "ACEVES DIEZ,ANGEL EMILIO",
         "ACEVES DIEZ,ANGEL EMILIO",
         "False",
         "40.0",
         "Sin coincidencias"
        ],
        [
         "3",
         "RIVAS ACEVES,SALVADOR",
         "ACEVES,SALVADOR M",
         "7.777.777.777.777.770",
         "RIVAS ACEVES,SALVADOR",
         "ACEVES,SALVADOR M",
         "False",
         "37.6",
         "Similitud Nombre (94%)"
        ],
        [
         "4",
         "ACOSTA GONZALEZ,GUILLERMO ENRIQUE",
         "ACOSTA GONZALEZ,GUILLERMO ENRIQUE",
         "100",
         "ACOSTA GONZALEZ,GUILLERMO ENRIQUE",
         "ACOSTA GONZALEZ,GUILLERMO ENRIQUE",
         "False",
         "40.0",
         "Sin coincidencias"
        ],
        [
         "5",
         "ACOSTA SALMON,HECTOR",
         "ACOSTA SALMON,HECTOR",
         "100",
         "ACOSTA SALMON,HECTOR",
         "ACOSTA SALMON,HECTOR",
         "False",
         "40.0",
         "Similitud Nombre (100%)"
        ],
        [
         "6",
         "ADAMS,RANDY HOWARD",
         "ADAMS,RANDY HOWARD",
         "100",
         "ADAMS,RANDY HOWARD",
         "ADAMS,RANDY HOWARD",
         "False",
         "60.0",
         "Institución"
        ],
        [
         "7",
         "AGUILA HERNANDEZ,JACINTO",
         "AGUILA HERNANDEZ,JACINTO",
         "100",
         "AGUILA HERNANDEZ,JACINTO",
         "AGUILA HERNANDEZ,JACINTO",
         "False",
         "60.0",
         "Institución"
        ],
        [
         "8",
         "AGUILAR ELGUEZABAL,ALFREDO",
         "AGUILAR ELGUEZABAL,ALFREDO",
         "100",
         "AGUILAR ELGUEZABAL,ALFREDO",
         "AGUILAR ELGUEZABAL,ALFREDO",
         "False",
         "40.0",
         "Sin coincidencias"
        ],
        [
         "9",
         "AGUILAR ESCALANTE,RODOLFO ANTONIO",
         "AGUILAR ESCALANTE,RODOLFO ANTONIO",
         "100",
         "AGUILAR ESCALANTE,RODOLFO ANTONIO",
         "AGUILAR ESCALANTE,RODOLFO ANTONIO",
         "True",
         "80.0",
         "Institución, Fecha"
        ],
        [
         "10",
         "AGUILAR FAISAL,JOSE LEOPOLDO",
         "AGUILAR FAISAL,JOSE LEOPOLDO",
         "100",
         "AGUILAR FAISAL,JOSE LEOPOLDO",
         "AGUILAR FAISAL,JOSE LEOPOLDO",
         "False",
         "40.0",
         "Similitud Nombre (100%)"
        ],
        [
         "11",
         "AGUILAR MENDOZA,GUILLERMO",
         "AGUILAR MENDOZA,GUILLERMO",
         "100",
         "AGUILAR MENDOZA,GUILLERMO",
         "AGUILAR MENDOZA,GUILLERMO",
         "False",
         "40.0",
         "Similitud Nombre (100%)"
        ],
        [
         "12",
         "AGUILAR PLIEGO,JULIA",
         "AGUILAR PLIEGO,JULIA",
         "100",
         "AGUILAR PLIEGO,JULIA",
         "AGUILAR PLIEGO,JULIA",
         "False",
         "60.0",
         "Institución"
        ],
        [
         "13",
         "AGUILAR TOALA,JOSE ELEAZAR",
         "AGUILAR TOALA,JOSE ELEAZAR",
         "100",
         "AGUILAR TOALA,JOSE ELEAZAR",
         "AGUILAR TOALA,JOSE ELEAZAR",
         "False",
         "40.0",
         "Similitud Nombre (100%)"
        ],
        [
         "14",
         "AGUILAR VEGA,MANUEL DE JESUS",
         "AGUILAR VEGA,MANUEL DE JESUS",
         "100",
         "AGUILAR VEGA,MANUEL DE JESUS",
         "AGUILAR VEGA,MANUEL DE JESUS",
         "False",
         "40.0",
         "Sin coincidencias"
        ],
        [
         "15",
         "AGUILAR GONZALEZ,ALBERTO",
         "AGUILAR,ALBERT",
         "7.658.862.876.254.180",
         "AGUILAR GONZALEZ,ALBERTO",
         "AGUILAR,ALBERT",
         "True",
         "80.0",
         "Institución, Fecha"
        ],
        [
         "16",
         "AGUILAR LOPEZ,ANTONIO",
         "AGUILAR,ANTONIO",
         "85",
         "AGUILAR LOPEZ,ANTONIO",
         "AGUILAR,ANTONIO",
         "False",
         "40.0",
         "Sin coincidencias"
        ],
        [
         "17",
         "PEREZ AGUILAR,BENJAMIN",
         "AGUILAR,BENJAMIN",
         "85",
         "PEREZ AGUILAR,BENJAMIN",
         "AGUILAR,BENJAMIN",
         "False",
         "40.0",
         "Sin coincidencias"
        ],
        [
         "18",
         "AYON AGUILAR,JORGE",
         "AGUILAR,JORGE",
         "8.684.210.526.315.780",
         "AYON AGUILAR,JORGE",
         "AGUILAR,JORGE",
         "False",
         "60.0",
         "Institución"
        ],
        [
         "19",
         "AGUILAR RIVERA,JOSE ANTONIO",
         "AGUILAR,JOSE ANTONIO",
         "8.333.333.333.333.330",
         "AGUILAR RIVERA,JOSE ANTONIO",
         "AGUILAR,JOSE ANTONIO",
         "False",
         "40.0",
         "Sin coincidencias"
        ],
        [
         "20",
         "GOMEZ AGUILAR,JOSE FRANCISCO",
         "AGUILAR,JOSE FRANCISCO",
         "85",
         "GOMEZ AGUILAR,JOSE FRANCISCO",
         "AGUILAR,JOSE FRANCISCO",
         "False",
         "60.0",
         "Institución"
        ],
        [
         "21",
         "AGUILAR JIMENEZ,JOSE ROBERTO",
         "AGUILAR,JOSE ROBERTO",
         "8.181.818.181.818.180",
         "AGUILAR JIMENEZ,JOSE ROBERTO",
         "AGUILAR,JOSE ROBERTO",
         "False",
         "60.0",
         "Institución"
        ],
        [
         "22",
         "SANCHEZ AGUILAR,MARIO",
         "AGUILAR,MARIO",
         "8.181.818.181.818.180",
         "SANCHEZ AGUILAR,MARIO",
         "AGUILAR,MARIO",
         "False",
         "40.0",
         "Sin coincidencias"
        ],
        [
         "23",
         "AGUILAR MEJIA,OMAR",
         "AGUILAR,OMAR",
         "85",
         "AGUILAR MEJIA,OMAR",
         "AGUILAR,OMAR",
         "False",
         "60.0",
         "Institución"
        ],
        [
         "24",
         "MORA AGUILAR,RAFAEL",
         "AGUILAR,RAFAEL",
         "8.684.210.526.315.780",
         "MORA AGUILAR,RAFAEL",
         "AGUILAR,RAFAEL",
         "False",
         "60.0",
         "Institución"
        ],
        [
         "25",
         "AGUILERA CORTES,LUZ ANTONIO",
         "AGUILERA CORTES,LUZ ANTONIO",
         "100",
         "AGUILERA CORTES,LUZ ANTONIO",
         "AGUILERA CORTES,LUZ ANTONIO",
         "False",
         "60.0",
         "Institución"
        ],
        [
         "26",
         "AGUILERA GOMEZ,EDUARDO",
         "AGUILERA GOMEZ,EDUARDO",
         "100",
         "AGUILERA GOMEZ,EDUARDO",
         "AGUILERA GOMEZ,EDUARDO",
         "False",
         "60.0",
         "Institución"
        ],
        [
         "27",
         "AGUILAR FAISAL,JOSE LEOPOLDO",
         "AGUILR FAISAL,JOSE  LEOPOLDO",
         "962.962.963",
         "AGUILAR FAISAL,JOSE LEOPOLDO",
         "AGUILR FAISAL,JOSE  LEOPOLDO",
         "False",
         "39.2",
         "Similitud Nombre (98%)"
        ],
        [
         "28",
         "LOPEZ AGUIRRE,DANIEL",
         "AGUIRRE,DANIEL",
         "85",
         "LOPEZ AGUIRRE,DANIEL",
         "AGUIRRE,DANIEL",
         "True",
         "80.0",
         "Institución, Fecha"
        ],
        [
         "29",
         "ALAGON CANO,ALEJANDRO",
         "ALAGON CANO,ALEJANDRO",
         "100",
         "ALAGON CANO,ALEJANDRO",
         "ALAGON CANO,ALEJANDRO",
         "False",
         "60.0",
         "Institución"
        ],
        [
         "30",
         "ALCANTAR CAMARENA,VICTOR ALFONSO",
         "ALCANTAR CAMARENA,VICTOR ALFONSO",
         "100",
         "ALCANTAR CAMARENA,VICTOR ALFONSO",
         "ALCANTAR CAMARENA,VICTOR ALFONSO",
         "False",
         "40.0",
         "Similitud Nombre (100%)"
        ],
        [
         "31",
         "GALINDO ALCANTARA,ADALBERTO",
         "ALCANTARA,ALBERTO",
         "7.836.538.461.538.460",
         "GALINDO ALCANTARA,ADALBERTO",
         "ALCANTARA,ALBERTO",
         "False",
         "60.0",
         "Institución"
        ],
        [
         "32",
         "HERRERA ALCANTARA,OSCAR",
         "ALCANTARA,OSCAR M",
         "7.628.205.128.205.120",
         "HERRERA ALCANTARA,OSCAR",
         "ALCANTARA,OSCAR M",
         "False",
         "37.6",
         "Similitud Nombre (94%)"
        ],
        [
         "33",
         "ALDAYA GARDE,IVAN ARITZ",
         "ALDAYA GARDE,IVAN ARITZ",
         "100",
         "ALDAYA GARDE,IVAN ARITZ",
         "ALDAYA GARDE,IVAN ARITZ",
         "False",
         "60.0",
         "Institución"
        ],
        [
         "34",
         "ALDAYA GARDE,IVAN ARITZ",
         "ALDAYA GARDE,IVAN ARTIZ",
         "95",
         "ALDAYA GARDE,IVAN ARITZ",
         "ALDAYA GARDE,IVAN ARTIZ",
         "False",
         "60.0",
         "Institución"
        ],
        [
         "35",
         "PAYAN ALEJO,JORGE",
         "ALEJO,JORGE",
         "81.25",
         "PAYAN ALEJO,JORGE",
         "ALEJO,JORGE",
         "False",
         "60.0",
         "Institución"
        ],
        [
         "36",
         "ALEKSANDROV,VLADIMIR",
         "ALEKSANDROV,VLADIMIR",
         "100",
         "ALEKSANDROV,VLADIMIR",
         "ALEKSANDROV,VLADIMIR",
         "False",
         "60.0",
         "Institución"
        ],
        [
         "37",
         "ALEMAN VAZQUEZ,LAURA OLIVIA",
         "ALEMAN VAZQUEZ,LAURA OLIVIA",
         "100",
         "ALEMAN VAZQUEZ,LAURA OLIVIA",
         "ALEMAN VAZQUEZ,LAURA OLIVIA",
         "False",
         "60.0",
         "Institución"
        ],
        [
         "38",
         "ALEXANDROVA,LARISSA",
         "ALEXANDROVA,LARISSA",
         "100",
         "ALEXANDROVA,LARISSA",
         "ALEXANDROVA,LARISSA",
         "False",
         "60.0",
         "Institución"
        ],
        [
         "39",
         "ALMEIDA LOYA,SERGIO FABIAN",
         "ALMEIDA LOYA,SERGIO FABIAN",
         "100",
         "ALMEIDA LOYA,SERGIO FABIAN",
         "ALMEIDA LOYA,SERGIO FABIAN",
         "False",
         "60.0",
         "Fecha"
        ],
        [
         "40",
         "ALONSO GARCIA,ANA LUCIA",
         "ALONSO GARCIA,ANA LUCIA",
         "100",
         "ALONSO GARCIA,ANA LUCIA",
         "ALONSO GARCIA,ANA LUCIA",
         "False",
         "40.0",
         "Similitud Nombre (100%)"
        ],
        [
         "41",
         "ALONSO MARTINEZ,FERNANDO",
         "ALONSO MARTINEZ,FERNANDO",
         "100",
         "ALONSO MARTINEZ,FERNANDO",
         "ALONSO MARTINEZ,FERNANDO",
         "True",
         "80.0",
         "Institución, Fecha"
        ],
        [
         "42",
         "ALONSO MARTINEZ,FERNANDO",
         "ALONSO MARTINEZ,FRENANDO",
         "93.75",
         "ALONSO MARTINEZ,FERNANDO",
         "ALONSO MARTINEZ,FRENANDO",
         "True",
         "80.0",
         "Institución, Fecha"
        ],
        [
         "43",
         "ALONSO NUNEZ,GABRIEL",
         "ALONSO NUNEZ,GABRIEL",
         "100",
         "ALONSO NUNEZ,GABRIEL",
         "ALONSO NUNEZ,GABRIEL",
         "False",
         "40.0",
         "Sin coincidencias"
        ],
        [
         "44",
         "DIAZ ALONSO,DANIELA",
         "ALONSO,DANIELA",
         "8.529.411.764.705.880",
         "DIAZ ALONSO,DANIELA",
         "ALONSO,DANIELA",
         "False",
         "60.0",
         "Fecha"
        ],
        [
         "45",
         "ALONSO NUNEZ,GABRIEL",
         "ALONSO,GABRIEL",
         "8.333.333.333.333.330",
         "ALONSO NUNEZ,GABRIEL",
         "ALONSO,GABRIEL",
         "False",
         "40.0",
         "Sin coincidencias"
        ],
        [
         "46",
         "ALTAGRACIA MARTINEZ,MARINA",
         "ALTAGRACIA MARTINEZ,MARINA",
         "100",
         "ALTAGRACIA MARTINEZ,MARINA",
         "ALTAGRACIA MARTINEZ,MARINA",
         "False",
         "60.0",
         "Institución"
        ],
        [
         "47",
         "ALTAMIRANO BUSTAMANTE,MYRIAM MARLENNE",
         "ALTAMIRANO BUSTAMANTE,MYRIAM MARLENE",
         "9.827.586.206.896.550",
         "ALTAMIRANO BUSTAMANTE,MYRIAM MARLENNE",
         "ALTAMIRANO BUSTAMANTE,MYRIAM MARLENE",
         "False",
         "60.0",
         "Institución"
        ],
        [
         "48",
         "ALUJA SCHUNEMAN HOFER,MARTIN RAMON",
         "ALUJA SCHUNEMAN,MARTIN RAMON",
         "9.166.666.666.666.660",
         "ALUJA SCHUNEMAN HOFER,MARTIN RAMON",
         "ALUJA SCHUNEMAN,MARTIN RAMON",
         "False",
         "40.0",
         "Similitud Nombre (100%)"
        ],
        [
         "49",
         "ALVAREZ CONTRERAS,LORENA",
         "ALVAREZ CONTRERAS,LORENA",
         "100",
         "ALVAREZ CONTRERAS,LORENA",
         "ALVAREZ CONTRERAS,LORENA",
         "False",
         "40.0",
         "Sin coincidencias"
        ]
       ],
       "shape": {
        "columns": 8,
        "rows": 976
       }
      },
      "text/html": [
       "<div>\n",
       "<style scoped>\n",
       "    .dataframe tbody tr th:only-of-type {\n",
       "        vertical-align: middle;\n",
       "    }\n",
       "\n",
       "    .dataframe tbody tr th {\n",
       "        vertical-align: top;\n",
       "    }\n",
       "\n",
       "    .dataframe thead th {\n",
       "        text-align: right;\n",
       "    }\n",
       "</style>\n",
       "<table border=\"1\" class=\"dataframe\">\n",
       "  <thead>\n",
       "    <tr style=\"text-align: right;\">\n",
       "      <th></th>\n",
       "      <th>NOMBRE DEL INVESTIGADOR</th>\n",
       "      <th>NOMBRE DEL INVESTIGADOR PATENTE</th>\n",
       "      <th>SIMILARITY</th>\n",
       "      <th>NOMBRE_INVESTIGADOR_NORM</th>\n",
       "      <th>NOMBRE_PATENTE_NORM</th>\n",
       "      <th>ES_MISMA_PERSONA</th>\n",
       "      <th>SCORE</th>\n",
       "      <th>DETALLES</th>\n",
       "    </tr>\n",
       "  </thead>\n",
       "  <tbody>\n",
       "    <tr>\n",
       "      <th>0</th>\n",
       "      <td>ABSALON CONSTANTINO,ANGEL EDUARDO</td>\n",
       "      <td>ABSALON CONSTANTINO,ANGEL EDUARDO</td>\n",
       "      <td>100</td>\n",
       "      <td>ABSALON CONSTANTINO,ANGEL EDUARDO</td>\n",
       "      <td>ABSALON CONSTANTINO,ANGEL EDUARDO</td>\n",
       "      <td>False</td>\n",
       "      <td>40.0</td>\n",
       "      <td>Similitud Nombre (100%)</td>\n",
       "    </tr>\n",
       "    <tr>\n",
       "      <th>1</th>\n",
       "      <td>ABURTO ANELL,JORGE ARTURO</td>\n",
       "      <td>ABURTO ANELL,JORGE ARTURO</td>\n",
       "      <td>100</td>\n",
       "      <td>ABURTO ANELL,JORGE ARTURO</td>\n",
       "      <td>ABURTO ANELL,JORGE ARTURO</td>\n",
       "      <td>False</td>\n",
       "      <td>60.0</td>\n",
       "      <td>Institución</td>\n",
       "    </tr>\n",
       "    <tr>\n",
       "      <th>2</th>\n",
       "      <td>ACEVES DIEZ,ANGEL EMILIO</td>\n",
       "      <td>ACEVES DIEZ,ANGEL EMILIO</td>\n",
       "      <td>100</td>\n",
       "      <td>ACEVES DIEZ,ANGEL EMILIO</td>\n",
       "      <td>ACEVES DIEZ,ANGEL EMILIO</td>\n",
       "      <td>False</td>\n",
       "      <td>40.0</td>\n",
       "      <td>Sin coincidencias</td>\n",
       "    </tr>\n",
       "    <tr>\n",
       "      <th>3</th>\n",
       "      <td>RIVAS ACEVES,SALVADOR</td>\n",
       "      <td>ACEVES,SALVADOR M</td>\n",
       "      <td>7.777.777.777.777.770</td>\n",
       "      <td>RIVAS ACEVES,SALVADOR</td>\n",
       "      <td>ACEVES,SALVADOR M</td>\n",
       "      <td>False</td>\n",
       "      <td>37.6</td>\n",
       "      <td>Similitud Nombre (94%)</td>\n",
       "    </tr>\n",
       "    <tr>\n",
       "      <th>4</th>\n",
       "      <td>ACOSTA GONZALEZ,GUILLERMO ENRIQUE</td>\n",
       "      <td>ACOSTA GONZALEZ,GUILLERMO ENRIQUE</td>\n",
       "      <td>100</td>\n",
       "      <td>ACOSTA GONZALEZ,GUILLERMO ENRIQUE</td>\n",
       "      <td>ACOSTA GONZALEZ,GUILLERMO ENRIQUE</td>\n",
       "      <td>False</td>\n",
       "      <td>40.0</td>\n",
       "      <td>Sin coincidencias</td>\n",
       "    </tr>\n",
       "    <tr>\n",
       "      <th>...</th>\n",
       "      <td>...</td>\n",
       "      <td>...</td>\n",
       "      <td>...</td>\n",
       "      <td>...</td>\n",
       "      <td>...</td>\n",
       "      <td>...</td>\n",
       "      <td>...</td>\n",
       "      <td>...</td>\n",
       "    </tr>\n",
       "    <tr>\n",
       "      <th>971</th>\n",
       "      <td>ZAVALA OLIVARES,GERARDO</td>\n",
       "      <td>ZAVALA OLIVARES,GERARDO</td>\n",
       "      <td>100</td>\n",
       "      <td>ZAVALA OLIVARES,GERARDO</td>\n",
       "      <td>ZAVALA OLIVARES,GERARDO</td>\n",
       "      <td>False</td>\n",
       "      <td>60.0</td>\n",
       "      <td>Institución</td>\n",
       "    </tr>\n",
       "    <tr>\n",
       "      <th>972</th>\n",
       "      <td>ZAVALA YOE,RICARDO</td>\n",
       "      <td>ZAVALA,RICARDO</td>\n",
       "      <td>87.5</td>\n",
       "      <td>ZAVALA YOE,RICARDO</td>\n",
       "      <td>ZAVALA,RICARDO</td>\n",
       "      <td>True</td>\n",
       "      <td>80.0</td>\n",
       "      <td>Institución, Fecha</td>\n",
       "    </tr>\n",
       "    <tr>\n",
       "      <th>973</th>\n",
       "      <td>ZENTENO RAMIREZ,ANTONIO</td>\n",
       "      <td>ZENTENO RAMIREZ,ANTONIO</td>\n",
       "      <td>100</td>\n",
       "      <td>ZENTENO RAMIREZ,ANTONIO</td>\n",
       "      <td>ZENTENO RAMIREZ,ANTONIO</td>\n",
       "      <td>False</td>\n",
       "      <td>40.0</td>\n",
       "      <td>Sin coincidencias</td>\n",
       "    </tr>\n",
       "    <tr>\n",
       "      <th>974</th>\n",
       "      <td>ZEPEDA PARTIDA,TRINO ARMANDO</td>\n",
       "      <td>ZEPEDA PARTIDA,TRINO ARMANDO</td>\n",
       "      <td>100</td>\n",
       "      <td>ZEPEDA PARTIDA,TRINO ARMANDO</td>\n",
       "      <td>ZEPEDA PARTIDA,TRINO ARMANDO</td>\n",
       "      <td>False</td>\n",
       "      <td>60.0</td>\n",
       "      <td>Institución</td>\n",
       "    </tr>\n",
       "    <tr>\n",
       "      <th>975</th>\n",
       "      <td>ZOLOTUKHIN,MIKHAIL</td>\n",
       "      <td>ZOLOTUKHIN,MIKHAIL</td>\n",
       "      <td>100</td>\n",
       "      <td>ZOLOTUKHIN,MIKHAIL</td>\n",
       "      <td>ZOLOTUKHIN,MIKHAIL</td>\n",
       "      <td>False</td>\n",
       "      <td>60.0</td>\n",
       "      <td>Institución</td>\n",
       "    </tr>\n",
       "  </tbody>\n",
       "</table>\n",
       "<p>976 rows × 8 columns</p>\n",
       "</div>"
      ],
      "text/plain": [
       "               NOMBRE DEL INVESTIGADOR    NOMBRE DEL INVESTIGADOR PATENTE  \\\n",
       "0    ABSALON CONSTANTINO,ANGEL EDUARDO  ABSALON CONSTANTINO,ANGEL EDUARDO   \n",
       "1            ABURTO ANELL,JORGE ARTURO          ABURTO ANELL,JORGE ARTURO   \n",
       "2             ACEVES DIEZ,ANGEL EMILIO           ACEVES DIEZ,ANGEL EMILIO   \n",
       "3                RIVAS ACEVES,SALVADOR                  ACEVES,SALVADOR M   \n",
       "4    ACOSTA GONZALEZ,GUILLERMO ENRIQUE  ACOSTA GONZALEZ,GUILLERMO ENRIQUE   \n",
       "..                                 ...                                ...   \n",
       "971            ZAVALA OLIVARES,GERARDO            ZAVALA OLIVARES,GERARDO   \n",
       "972                 ZAVALA YOE,RICARDO                     ZAVALA,RICARDO   \n",
       "973            ZENTENO RAMIREZ,ANTONIO            ZENTENO RAMIREZ,ANTONIO   \n",
       "974       ZEPEDA PARTIDA,TRINO ARMANDO       ZEPEDA PARTIDA,TRINO ARMANDO   \n",
       "975                 ZOLOTUKHIN,MIKHAIL                 ZOLOTUKHIN,MIKHAIL   \n",
       "\n",
       "                SIMILARITY           NOMBRE_INVESTIGADOR_NORM  \\\n",
       "0                      100  ABSALON CONSTANTINO,ANGEL EDUARDO   \n",
       "1                      100          ABURTO ANELL,JORGE ARTURO   \n",
       "2                      100           ACEVES DIEZ,ANGEL EMILIO   \n",
       "3    7.777.777.777.777.770              RIVAS ACEVES,SALVADOR   \n",
       "4                      100  ACOSTA GONZALEZ,GUILLERMO ENRIQUE   \n",
       "..                     ...                                ...   \n",
       "971                    100            ZAVALA OLIVARES,GERARDO   \n",
       "972                   87.5                 ZAVALA YOE,RICARDO   \n",
       "973                    100            ZENTENO RAMIREZ,ANTONIO   \n",
       "974                    100       ZEPEDA PARTIDA,TRINO ARMANDO   \n",
       "975                    100                 ZOLOTUKHIN,MIKHAIL   \n",
       "\n",
       "                   NOMBRE_PATENTE_NORM  ES_MISMA_PERSONA  SCORE  \\\n",
       "0    ABSALON CONSTANTINO,ANGEL EDUARDO             False   40.0   \n",
       "1            ABURTO ANELL,JORGE ARTURO             False   60.0   \n",
       "2             ACEVES DIEZ,ANGEL EMILIO             False   40.0   \n",
       "3                    ACEVES,SALVADOR M             False   37.6   \n",
       "4    ACOSTA GONZALEZ,GUILLERMO ENRIQUE             False   40.0   \n",
       "..                                 ...               ...    ...   \n",
       "971            ZAVALA OLIVARES,GERARDO             False   60.0   \n",
       "972                     ZAVALA,RICARDO              True   80.0   \n",
       "973            ZENTENO RAMIREZ,ANTONIO             False   40.0   \n",
       "974       ZEPEDA PARTIDA,TRINO ARMANDO             False   60.0   \n",
       "975                 ZOLOTUKHIN,MIKHAIL             False   60.0   \n",
       "\n",
       "                    DETALLES  \n",
       "0    Similitud Nombre (100%)  \n",
       "1                Institución  \n",
       "2          Sin coincidencias  \n",
       "3     Similitud Nombre (94%)  \n",
       "4          Sin coincidencias  \n",
       "..                       ...  \n",
       "971              Institución  \n",
       "972       Institución, Fecha  \n",
       "973        Sin coincidencias  \n",
       "974              Institución  \n",
       "975              Institución  \n",
       "\n",
       "[976 rows x 8 columns]"
      ]
     },
     "execution_count": 3,
     "metadata": {},
     "output_type": "execute_result"
    }
   ],
   "source": [
    "df_pre = pd.read_csv('Resultados comparativa anterior.csv')\n",
    "df_pre"
   ]
  },
  {
   "cell_type": "code",
   "execution_count": 4,
   "metadata": {},
   "outputs": [],
   "source": [
    "# Convertimos a float la columna SIMILARITY, los números con más de un punto como '7.777.777.777.777.770' agarrar solo los primeros 3 dígitos '7.777.777.777.777.770' -> '7.77'\n",
    "def formatear_similarity(valor):\n",
    "    cad = str(valor)\n",
    "    idx = cad.find('.')\n",
    "    if idx != -1:\n",
    "        # Toma los primeros dos dígitos antes del punto\n",
    "        entero = cad[:idx].replace('.', '')[:2]\n",
    "        # Toma el primer dígito después del punto\n",
    "        decimal = cad[idx+1:idx+2]\n",
    "        fixed = f\"{entero}.{decimal}\"\n",
    "        try:\n",
    "            resultado = float(fixed)\n",
    "            return min(resultado, 100.0)  # Limitar el valor máximo a 100\n",
    "        except ValueError:\n",
    "            return 0.0  # o maneja el error según convenga\n",
    "    return float(cad)\n",
    "\n",
    "df_pre['SIMILARITY'] = df_pre['SIMILARITY'].apply(formatear_similarity)"
   ]
  },
  {
   "cell_type": "code",
   "execution_count": 7,
   "metadata": {},
   "outputs": [],
   "source": [
    "# guardamos\n",
    "df_pre.to_csv('Resultados comparativa anterior.csv', index=False)"
   ]
  },
  {
   "cell_type": "code",
   "execution_count": null,
   "metadata": {},
   "outputs": [],
   "source": [
    "# eliminamos los datos que tengan 100 en el 'SIMILARITY'\n",
    "df_pre = df_pre[df_pre['SIMILARITY'] < 100]"
   ]
  },
  {
   "cell_type": "code",
   "execution_count": 8,
   "metadata": {},
   "outputs": [
    {
     "data": {
      "application/vnd.microsoft.datawrangler.viewer.v0+json": {
       "columns": [
        {
         "name": "index",
         "rawType": "int64",
         "type": "integer"
        },
        {
         "name": "NOMBRE_INVENTOR",
         "rawType": "object",
         "type": "string"
        },
        {
         "name": "NOMBRE DEL INVESTIGADOR",
         "rawType": "object",
         "type": "string"
        },
        {
         "name": "Ratio",
         "rawType": "float64",
         "type": "float"
        }
       ],
       "conversionMethod": "pd.DataFrame",
       "ref": "4afeee0d-660d-4165-b3dc-9290ed88b22f",
       "rows": [
        [
         "0",
         "LOPEZ,NYDIA",
         "LOPEZ LIRA,NIDIA",
         "73.0"
        ],
        [
         "1",
         "STEPHENS,CHRISTOPER R",
         "STEPHENS STEVENS,CHRISTOPHER RHODES",
         "73.0"
        ],
        [
         "2",
         "STEPHENS,CHRISTOPER",
         "STEPHENS STEVENS,CHRISTOPHER RHODES",
         "73.0"
        ],
        [
         "3",
         "GARCIA,MARCO",
         "GARCIA JUAREZ,MARCOS",
         "77.0"
        ],
        [
         "4",
         "MORENO,MARCOS",
         "MORENO IBARRA,MARCO",
         "77.0"
        ],
        [
         "5",
         "GARCIA,IUIS MANUEL",
         "GARCIA FERIA,LUIS MANUEL",
         "78.0"
        ],
        [
         "6",
         "LOPEZ,JORGE LOUIS",
         "LOPEZ LOPEZ,JORGE LUIS",
         "78.0"
        ],
        [
         "7",
         "TALAVERA,MARINA",
         "TALAVERA ROJAS,MARTIN",
         "80.0"
        ],
        [
         "8",
         "BARRAGAN,EFRAIN",
         "BARRAGAN RODRIGUEZ,EFRAIN",
         "80.0"
        ],
        [
         "9",
         "CALDERON,RAFAEL",
         "CALDERON CONTRERAS,RAFAEL",
         "80.0"
        ],
        [
         "10",
         "CRUZ,ISRAEL",
         "CRUZ VEGA,ISRAEL",
         "80.0"
        ],
        [
         "11",
         "CRUZ,PEDRO",
         "CRUZ NOVA,PEDRO",
         "80.0"
        ],
        [
         "12",
         "ESTRADA,JORGE",
         "ESTRADA MARTINEZ,JORGE",
         "80.0"
        ],
        [
         "13",
         "FLORES,EMIGDIO Z",
         "FLORES LOPEZ,EMIGDIO Z.",
         "80.0"
        ],
        [
         "14",
         "GARCIA,ANAMARIA",
         "GARCIA BORES,ANA MARIA",
         "80.0"
        ],
        [
         "15",
         "GUEVARA,CESAR",
         "GUEVARA GONZALEZ,CESAR",
         "80.0"
        ],
        [
         "16",
         "GUILLEN,ALEJANDRO",
         "GUILLEN SANTIAGO,ALEJANDRO",
         "80.0"
        ],
        [
         "17",
         "MORALES,FRANCISCO J",
         "MORALES LEAL,FRANCISCO JOSE",
         "80.0"
        ],
        [
         "18",
         "PADILLA,CESAR",
         "PADILLA ALTAMIRA,CESAR",
         "80.0"
        ],
        [
         "19",
         "RUIZ,GABRIEL",
         "RUIZ AYMA,GABRIEL",
         "80.0"
        ],
        [
         "20",
         "AGUILAR,JOSE ROBERTO",
         "AGUILAR JIMENEZ,JOSE ROBERTO",
         "81.0"
        ],
        [
         "21",
         "AGUILAR,MARIO",
         "SANCHEZ AGUILAR,MARIO",
         "81.0"
        ],
        [
         "22",
         "CASTANO,GUILLERMO",
         "CASTANON NAJERA,GUILLERMO",
         "81.0"
        ],
        [
         "23",
         "CORELLA,MARIA ALBA GUADALUPE",
         "CORELLA MADUENO,MARIA ALBA GUADALUPE",
         "81.0"
        ],
        [
         "24",
         "CORTES,ARTURO",
         "CORTES CUEVAS,ARTURO",
         "81.0"
        ],
        [
         "25",
         "CUEVAS,RICARDO",
         "CUEVAS MORENO,RICARDO",
         "81.0"
        ],
        [
         "26",
         "ESCOBAR,GERARDO",
         "ESCOBAR GALINDO,GERARDO",
         "81.0"
        ],
        [
         "27",
         "FLORES,DANIEL",
         "FLORES CURIEL,DANIEL",
         "81.0"
        ],
        [
         "28",
         "FLORES,FERNANDO",
         "FLORES GARCIA,FERNANDO",
         "81.0"
        ],
        [
         "29",
         "GARCIA,ALBERTO",
         "GARCIA QUIROZ,ALBERTO",
         "81.0"
        ],
        [
         "30",
         "GARCIA,CESAR",
         "GARCIA GARCIA,CESAR",
         "81.0"
        ],
        [
         "31",
         "GARCIA,MARIO",
         "GARCIA BERGER,MARIO",
         "81.0"
        ],
        [
         "32",
         "GUTIERREZ,PEDRO",
         "GUTIERREZ CASTRELLON,PEDRO",
         "81.0"
        ],
        [
         "33",
         "HERRERA,LUIS EDUARDO",
         "HERRERA AZTEGUI,LUIS EDUARDO",
         "81.0"
        ],
        [
         "34",
         "MARQUEZ,ADRIAN",
         "MARQUEZ NAVARRO,ADRIAN",
         "81.0"
        ],
        [
         "35",
         "MENDEZ,MARIO ALBERTO",
         "MENDEZ DORADO,MARIO ALBERTO",
         "81.0"
        ],
        [
         "36",
         "MORALES,VERONICA",
         "MORALES TLALPAN,VERONICA",
         "81.0"
        ],
        [
         "37",
         "MORENO,MARCO",
         "MORENO IBARRA,MARCO",
         "81.0"
        ],
        [
         "38",
         "ORDONEZ,LUIS MIGUEL",
         "ORONA DOMINGUEZ,LUIS MIGUEL",
         "81.0"
        ],
        [
         "39",
         "OROZCO,SERGIO",
         "OROZCO CIRILO,SERGIO",
         "81.0"
        ],
        [
         "40",
         "RAMIREZ,NORMA",
         "RAMIREZ RAMIREZ,NORMA",
         "81.0"
        ],
        [
         "41",
         "ROBERTS,DAVID",
         "ROBLES ORTIZ,DAVID",
         "81.0"
        ],
        [
         "42",
         "SALAZAR,JUAN CARLOS",
         "SALAZAR SANCHEZ,JUAN CARLOS",
         "81.0"
        ],
        [
         "43",
         "SALAZAR,MANUEL",
         "SALAZAR RAMIREZ,MANUEL",
         "81.0"
        ],
        [
         "44",
         "SALAZAR,RUBEN",
         "SALAZAR MENDOZA,RUBEN",
         "81.0"
        ],
        [
         "45",
         "SANTOS,ARTURO",
         "SANTOS GARCIA,ARTURO",
         "81.0"
        ],
        [
         "46",
         "SUAREZ,JOSE LUIS",
         "SUAREZ FRANCO,JOSE LUIS",
         "81.0"
        ],
        [
         "47",
         "VARGAS,CARLOS",
         "VARGAS OBIETA,CARLOS",
         "81.0"
        ],
        [
         "48",
         "VARGAS,RAFAEL",
         "VARGAS BERNAL,RAFAEL",
         "81.0"
        ],
        [
         "49",
         "HERNANDEZ,HERIBERTO",
         "HERNANDEZ COCOLETZI,HERIBERTO",
         "81.0"
        ]
       ],
       "shape": {
        "columns": 3,
        "rows": 939
       }
      },
      "text/html": [
       "<div>\n",
       "<style scoped>\n",
       "    .dataframe tbody tr th:only-of-type {\n",
       "        vertical-align: middle;\n",
       "    }\n",
       "\n",
       "    .dataframe tbody tr th {\n",
       "        vertical-align: top;\n",
       "    }\n",
       "\n",
       "    .dataframe thead th {\n",
       "        text-align: right;\n",
       "    }\n",
       "</style>\n",
       "<table border=\"1\" class=\"dataframe\">\n",
       "  <thead>\n",
       "    <tr style=\"text-align: right;\">\n",
       "      <th></th>\n",
       "      <th>NOMBRE_INVENTOR</th>\n",
       "      <th>NOMBRE DEL INVESTIGADOR</th>\n",
       "      <th>Ratio</th>\n",
       "    </tr>\n",
       "  </thead>\n",
       "  <tbody>\n",
       "    <tr>\n",
       "      <th>0</th>\n",
       "      <td>LOPEZ,NYDIA</td>\n",
       "      <td>LOPEZ LIRA,NIDIA</td>\n",
       "      <td>73.0</td>\n",
       "    </tr>\n",
       "    <tr>\n",
       "      <th>1</th>\n",
       "      <td>STEPHENS,CHRISTOPER R</td>\n",
       "      <td>STEPHENS STEVENS,CHRISTOPHER RHODES</td>\n",
       "      <td>73.0</td>\n",
       "    </tr>\n",
       "    <tr>\n",
       "      <th>2</th>\n",
       "      <td>STEPHENS,CHRISTOPER</td>\n",
       "      <td>STEPHENS STEVENS,CHRISTOPHER RHODES</td>\n",
       "      <td>73.0</td>\n",
       "    </tr>\n",
       "    <tr>\n",
       "      <th>3</th>\n",
       "      <td>GARCIA,MARCO</td>\n",
       "      <td>GARCIA JUAREZ,MARCOS</td>\n",
       "      <td>77.0</td>\n",
       "    </tr>\n",
       "    <tr>\n",
       "      <th>4</th>\n",
       "      <td>MORENO,MARCOS</td>\n",
       "      <td>MORENO IBARRA,MARCO</td>\n",
       "      <td>77.0</td>\n",
       "    </tr>\n",
       "    <tr>\n",
       "      <th>...</th>\n",
       "      <td>...</td>\n",
       "      <td>...</td>\n",
       "      <td>...</td>\n",
       "    </tr>\n",
       "    <tr>\n",
       "      <th>934</th>\n",
       "      <td>AGUILAR ARMENDARIZ,RAMON ALBERTO</td>\n",
       "      <td>AGUILAR ARMENDARIZ,RAMON ALBERTO</td>\n",
       "      <td>100.0</td>\n",
       "    </tr>\n",
       "    <tr>\n",
       "      <th>935</th>\n",
       "      <td>SACRISTAN ROCK,EMILIO</td>\n",
       "      <td>SACRISTAN ROCK,EMILIO</td>\n",
       "      <td>100.0</td>\n",
       "    </tr>\n",
       "    <tr>\n",
       "      <th>936</th>\n",
       "      <td>ALONSO VILATELA,MARIA ELISA</td>\n",
       "      <td>ALONSO VILATELA,MARIA ELISA</td>\n",
       "      <td>100.0</td>\n",
       "    </tr>\n",
       "    <tr>\n",
       "      <th>937</th>\n",
       "      <td>VILLARREAL TREVINO,JUAN ANTONIO</td>\n",
       "      <td>VILLARREAL TREVINO,JUAN ANTONIO</td>\n",
       "      <td>100.0</td>\n",
       "    </tr>\n",
       "    <tr>\n",
       "      <th>938</th>\n",
       "      <td>LIU,HONGBO</td>\n",
       "      <td>LIU,HONGBO</td>\n",
       "      <td>100.0</td>\n",
       "    </tr>\n",
       "  </tbody>\n",
       "</table>\n",
       "<p>939 rows × 3 columns</p>\n",
       "</div>"
      ],
      "text/plain": [
       "                      NOMBRE_INVENTOR              NOMBRE DEL INVESTIGADOR  \\\n",
       "0                         LOPEZ,NYDIA                     LOPEZ LIRA,NIDIA   \n",
       "1               STEPHENS,CHRISTOPER R  STEPHENS STEVENS,CHRISTOPHER RHODES   \n",
       "2                 STEPHENS,CHRISTOPER  STEPHENS STEVENS,CHRISTOPHER RHODES   \n",
       "3                        GARCIA,MARCO                 GARCIA JUAREZ,MARCOS   \n",
       "4                       MORENO,MARCOS                  MORENO IBARRA,MARCO   \n",
       "..                                ...                                  ...   \n",
       "934  AGUILAR ARMENDARIZ,RAMON ALBERTO     AGUILAR ARMENDARIZ,RAMON ALBERTO   \n",
       "935             SACRISTAN ROCK,EMILIO                SACRISTAN ROCK,EMILIO   \n",
       "936       ALONSO VILATELA,MARIA ELISA          ALONSO VILATELA,MARIA ELISA   \n",
       "937   VILLARREAL TREVINO,JUAN ANTONIO      VILLARREAL TREVINO,JUAN ANTONIO   \n",
       "938                        LIU,HONGBO                           LIU,HONGBO   \n",
       "\n",
       "     Ratio  \n",
       "0     73.0  \n",
       "1     73.0  \n",
       "2     73.0  \n",
       "3     77.0  \n",
       "4     77.0  \n",
       "..     ...  \n",
       "934  100.0  \n",
       "935  100.0  \n",
       "936  100.0  \n",
       "937  100.0  \n",
       "938  100.0  \n",
       "\n",
       "[939 rows x 3 columns]"
      ]
     },
     "execution_count": 8,
     "metadata": {},
     "output_type": "execute_result"
    }
   ],
   "source": [
    "df_new = pd.read_csv('Coincidencias.csv')\n",
    "df_new"
   ]
  },
  {
   "cell_type": "code",
   "execution_count": null,
   "metadata": {},
   "outputs": [],
   "source": [
    "df_PATENTE = pd.read_csv('listaNombresPatentes.csv')\n",
    "df_PATENTE"
   ]
  },
  {
   "cell_type": "code",
   "execution_count": null,
   "metadata": {},
   "outputs": [],
   "source": [
    "df_SNII = pd.read_csv('Nombres_Limpios_Final.csv')\n",
    "df_SNII"
   ]
  },
  {
   "cell_type": "code",
   "execution_count": null,
   "metadata": {},
   "outputs": [],
   "source": [
    "df_Prenew = pd.read_csv('Pre Coincidencias.csv')\n",
    "df_Prenew"
   ]
  },
  {
   "cell_type": "code",
   "execution_count": null,
   "metadata": {},
   "outputs": [],
   "source": [
    "# df_baseF = pd.read_csv('datasetF.csv')\n",
    "# df_baseF"
   ]
  },
  {
   "cell_type": "code",
   "execution_count": null,
   "metadata": {},
   "outputs": [],
   "source": [
    "# df_baseP = pd.read_csv('InventoresF.csv')\n",
    "# df_baseP"
   ]
  }
 ],
 "metadata": {
  "kernelspec": {
   "display_name": "PT_entorno",
   "language": "python",
   "name": "python3"
  },
  "language_info": {
   "codemirror_mode": {
    "name": "ipython",
    "version": 3
   },
   "file_extension": ".py",
   "mimetype": "text/x-python",
   "name": "python",
   "nbconvert_exporter": "python",
   "pygments_lexer": "ipython3",
   "version": "3.10.5"
  }
 },
 "nbformat": 4,
 "nbformat_minor": 2
}
