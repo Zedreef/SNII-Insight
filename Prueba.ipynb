{
 "cells": [
  {
   "cell_type": "code",
   "execution_count": 12,
   "metadata": {},
   "outputs": [],
   "source": [
    "# Librerias\n",
    "import pandas as pd\n",
    "import unidecode"
   ]
  },
  {
   "cell_type": "code",
   "execution_count": 19,
   "metadata": {},
   "outputs": [],
   "source": [
    "# Importamos los archivos\n",
    "df_patente67 = pd.read_csv('INVENTOR6724.csv')\n",
    "df_patenteMX = pd.read_excel('INVENTORES_MX.xlsx')"
   ]
  },
  {
   "cell_type": "code",
   "execution_count": 20,
   "metadata": {},
   "outputs": [],
   "source": [
    "# Hacemos modificaciones en 'df_patente67'\n",
    "# 'inventor_first_name' y 'inventor_last_name' se uniran en una sola columna llamada \n",
    "# 'NOMBRE_INVENTOR' en el siguiente formato inventor_last_name,inventor_first_name\n",
    "df_patente67['NOMBRE_INVENTOR'] = df_patente67['inventor_last_name'] + ',' + df_patente67['inventor_first_name']\n",
    "\n",
    "# Eliminamos las columnas que no necesitamos\n",
    "df_patente67 = df_patente67.drop(columns=['inventor_first_name', 'inventor_last_name'])\n",
    "\n",
    "# Eliminamos guiones, comas, numero y puntos en la columna 'NOMBRE_INVENTOR'\n",
    "df_patente67['NOMBRE_INVENTOR'] = df_patente67['NOMBRE_INVENTOR'].str.replace('-', ' ').str.replace('[0-9]', '').str.replace('.', '').apply(unidecode.unidecode)"
   ]
  },
  {
   "cell_type": "code",
   "execution_count": null,
   "metadata": {},
   "outputs": [],
   "source": [
    "# Hacemos modificaciones en 'df_patente67'\n",
    "# 'inventor_city' y 'inventor_country' se uniran en una sola columna llamada\n",
    "# 'Location' en el siguiente formato inventor_city,inventor_country\n",
    "df_patente67['Location'] = df_patente67['inventor_city'] + ', ' + df_patente67['inventor_country']\n",
    "\n",
    "# Eliminamos las columnas que no necesitamos\n",
    "df_patente67 = df_patente67.drop(columns=['inventor_lastknown_city', 'inventor_lastknown_country','inventor_country', 'inventor_city'])"
   ]
  },
  {
   "cell_type": "code",
   "execution_count": null,
   "metadata": {},
   "outputs": [],
   "source": [
    "# Eliminamos las columnas que no necesitamos en 'df_patente67'\n",
    "df_patente67 = df_patente67.drop(columns=['inventor_key', 'inventor_id', 'patent_id', 'inventor_order', 'inventor_sequence'])"
   ]
  }
 ],
 "metadata": {
  "kernelspec": {
   "display_name": "Python 3",
   "language": "python",
   "name": "python3"
  },
  "language_info": {
   "codemirror_mode": {
    "name": "ipython",
    "version": 3
   },
   "file_extension": ".py",
   "mimetype": "text/x-python",
   "name": "python",
   "nbconvert_exporter": "python",
   "pygments_lexer": "ipython3",
   "version": "3.11.11"
  }
 },
 "nbformat": 4,
 "nbformat_minor": 2
}
