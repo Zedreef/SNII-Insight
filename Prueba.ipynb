{
 "cells": [
  {
   "cell_type": "code",
   "execution_count": 1,
   "metadata": {},
   "outputs": [],
   "source": [
    "import pandas as pd"
   ]
  },
  {
   "cell_type": "code",
   "execution_count": 10,
   "metadata": {},
   "outputs": [],
   "source": [
    "# Importamos los archivos\n",
    "pd_inven67 = pd.read_csv('INVENTOR6724.csv')\n",
    "pd_MX = pd.read_excel('INVENTORES_MX_USPTO_version para stata (1).xlsx')"
   ]
  },
  {
   "cell_type": "code",
   "execution_count": 11,
   "metadata": {},
   "outputs": [],
   "source": [
    "# Creamos una columna con el nombre completo del inventor\n",
    "pd_inven67[\"NOMBRE_INVENTOR_1\"] = (\n",
    "    pd_inven67[\"inventor_last_name\"].str.strip() + \",\" + \n",
    "    pd_inven67[\"inventor_first_name\"].str.strip()\n",
    ")\n",
    "\n",
    "# Creamos una columna con el nombre completo del inventor\n",
    "pd_MX[\"NOMBRE_INVENTOR_2\"] = (\n",
    "    pd_MX[\"Inventor\"]\n",
    ")"
   ]
  },
  {
   "cell_type": "code",
   "execution_count": 12,
   "metadata": {},
   "outputs": [],
   "source": [
    "# Creamos un DataFrame con los nombres de los inventores\n",
    "df_Nombres = pd.DataFrame({\n",
    "    \"NOMBRE_INVENTOR_1\": pd_inven67[\"NOMBRE_INVENTOR_1\"],\n",
    "    \"NOMBRE_INVENTOR_2\": pd_MX[\"NOMBRE_INVENTOR_2\"],\n",
    "})"
   ]
  },
  {
   "cell_type": "code",
   "execution_count": 13,
   "metadata": {},
   "outputs": [],
   "source": [
    "# Limpiamos los nombres del segundo DataFrame\n",
    "df_Nombres[\"NOMBRE_INVENTOR_2\"] = df_Nombres[\"NOMBRE_INVENTOR_2\"].fillna('').apply(lambda x: ','.join([' '.join(x.split()[-2:]), ' '.join(x.split()[:-2])]))"
   ]
  },
  {
   "cell_type": "code",
   "execution_count": null,
   "metadata": {},
   "outputs": [],
   "source": [
    "# Cargamos los casos especiales\n",
    "df_casoEspecial = pd.read_csv('casos_con_mas_de_tres_palabras.csv')\n",
    "\n",
    "# Hacemos un merge para actualizar los nombres incorrectos\n",
    "df_Nombres = df_Nombres.merge(df_casoEspecial[['NOMBRE_INVENTOR_1', 'NOMBRE_INVENTOR_2']], on='NOMBRE_INVENTOR_1', how='left', suffixes=('', '_correcto'))\n",
    "\n",
    "# Actualizamos los nombres incorrectos\n",
    "df_Nombres['NOMBRE_INVENTOR_2'] = df_Nombres['NOMBRE_INVENTOR_2_correcto'].combine_first(df_Nombres['NOMBRE_INVENTOR_2'])\n",
    "\n",
    "# Eliminamos la columna temporal\n",
    "df_Nombres.drop(columns=['NOMBRE_INVENTOR_2_correcto'], inplace=True)"
   ]
  },
  {
   "cell_type": "code",
   "execution_count": 16,
   "metadata": {},
   "outputs": [],
   "source": [
    "# Verificamos que ningún nombre de la primera columna existe en la segunda columna\n",
    "df_Nombres['coincidencia'] = df_Nombres.apply(\n",
    "    lambda row: row['NOMBRE_INVENTOR_1'] not in df_Nombres['NOMBRE_INVENTOR_2'].values, axis=1\n",
    ")"
   ]
  },
  {
   "cell_type": "code",
   "execution_count": null,
   "metadata": {},
   "outputs": [],
   "source": [
    "# En un dataframe llamado Listas_Completa se colocan todos los nombres \n",
    "# del 'NOMBRE_INVENTOR_2' mas los que no se encuentra en el 'NOMBRE_INVENTOR_1'\n",
    "Listas_Completa = pd.concat([df_Nombres['NOMBRE_INVENTOR_2'], df_Nombres[~df_Nombres['coincidencia']]['NOMBRE_INVENTOR_1']])\n",
    "Listas_Completa = Listas_Completa.drop_duplicates()\n",
    "# Se le pone un encabezado a Listas_Completa llamado Nombre_Inventor\n",
    "Listas_Completa = pd.DataFrame(Listas_Completa, columns=['Nombre Inventor'])\n",
    "\n",
    "# Eliminamos duplicados\n",
    "Listas_Completa = Listas_Completa.drop_duplicates()\n",
    "\n",
    "# Guardamos archivo\n",
    "# Listas_Completa.to_csv('coincidencias.csv', index=False)"
   ]
  },
  {
   "cell_type": "code",
   "execution_count": 26,
   "metadata": {},
   "outputs": [],
   "source": [
    "import unicodedata\n",
    "\n",
    "pd_NombresLimpios = df_Nombres.copy()\n",
    "\n",
    "# Eliminamos la columna 'NOMBRE_INVENTOR_1' y 'coincidencia'\n",
    "pd_NombresLimpios.drop(columns=['NOMBRE_INVENTOR_1', 'coincidencia'], inplace=True) \n",
    "\n",
    "# Eliminamos los datos que solamente contengan ','\n",
    "pd_NombresLimpios = pd_NombresLimpios[pd_NombresLimpios['NOMBRE_INVENTOR_2'] != ',']\n",
    "\n",
    "# Eliminamos los datos DESPUES del nombre 'N. Franklin,David' que es la fila 1318\n",
    "pd_NombresLimpios = pd_NombresLimpios.iloc[:1317]\n",
    "\n",
    "\n",
    "def remove_accents_and_hyphens(input_str):\n",
    "    # Elimina guiones\n",
    "    no_hyphens = input_str.replace('-', ' ').replace('.', '')\n",
    "    # Normalización para eliminar acentos\n",
    "    nfkd_str = unicodedata.normalize('NFKD', no_hyphens)\n",
    "    return \"\".join([c for c in nfkd_str if not unicodedata.combining(c)])\n",
    "\n",
    "pd_NombresLimpios['NOMBRE_INVENTOR_2'] = pd_NombresLimpios['NOMBRE_INVENTOR_2'].apply(\n",
    "    lambda x: ','.join([\n",
    "        remove_accents_and_hyphens(x.rstrip(',').split()[-1]), \n",
    "        remove_accents_and_hyphens(' '.join(x.rstrip(',').split()[:-1]))\n",
    "    ])\n",
    "    if x.endswith(',') else remove_accents_and_hyphens(x)\n",
    ")"
   ]
  },
  {
   "cell_type": "code",
   "execution_count": 9,
   "metadata": {},
   "outputs": [],
   "source": [
    "pd_coincidencias = pd.read_csv('coincidencias.csv')\n",
    "\n",
    "# en el archivo quedaron casos como el siguiente, donde por ejemplo los nombres quedaron de la siguiente manera 'Carlos Tostado,'\n",
    "# por lo que hay que poner todos los nombres que tengan esa estructura, de la siguiente forma 'Tostado,Carlos' en la columna 'Nombre Inventor'\n",
    "import unicodedata\n",
    "\n",
    "def remove_accents_and_hyphens(input_str):\n",
    "    # Elimina guiones\n",
    "    no_hyphens = input_str.replace('-', ' ').replace('.', '')\n",
    "    # Normalización para eliminar acentos\n",
    "    nfkd_str = unicodedata.normalize('NFKD', no_hyphens)\n",
    "    return \"\".join([c for c in nfkd_str if not unicodedata.combining(c)])\n",
    "\n",
    "pd_coincidencias['Nombre Inventor'] = pd_coincidencias['Nombre Inventor'].apply(\n",
    "    lambda x: ','.join([\n",
    "        remove_accents_and_hyphens(x.rstrip(',').split()[-1]), \n",
    "        remove_accents_and_hyphens(' '.join(x.rstrip(',').split()[:-1]))\n",
    "    ])\n",
    "    if x.endswith(',') else remove_accents_and_hyphens(x)\n",
    ")\n",
    "\n",
    "# Guardamos archivo\n",
    "pd_coincidencias.to_csv('coincidencias.csv', index=False)"
   ]
  },
  {
   "cell_type": "code",
   "execution_count": null,
   "metadata": {},
   "outputs": [],
   "source": [
    "\n",
    "# Ahora la columna completa 'NOMBRE_INVENTOR_2' del DataFrame df_Nombres, la copiamos y pegamos al pd_MX alado de la columna 'Inventor'\n",
    "\n",
    "pos = pd_MX.columns.get_loc('Inventor')\n",
    "\n",
    "# Insertamos la columna 'NOMBRE_INVENTOR_2' justo al lado de 'Inventor'\n",
    "pd_MX.insert(pos + 1, 'NOMBRE_INVENTOR', pd_NombresLimpios['NOMBRE_INVENTOR_2'])\n",
    "\n",
    "# Eliminamos la columna NOMBRE_INVENTOR_2 del DataFrame pd_MX\n",
    "pd_MX.drop(columns=['NOMBRE_INVENTOR_2'], inplace=True)"
   ]
  },
  {
   "cell_type": "code",
   "execution_count": null,
   "metadata": {},
   "outputs": [],
   "source": [
    "# Guardamos el archivo\n",
    "pd_MX.to_excel('INVENTORES_MX1.xlsx', index=False)"
   ]
  },
  {
   "cell_type": "code",
   "execution_count": 38,
   "metadata": {},
   "outputs": [],
   "source": [
    "pd_FaltantesID = pd.read_csv('FaltantesDeID (2).csv')\n",
    "pd_Lista = pd.read_csv('coincidencias.csv')"
   ]
  },
  {
   "cell_type": "code",
   "execution_count": 36,
   "metadata": {},
   "outputs": [],
   "source": [
    "# Eliminamos guiones y Normalización para eliminar acentos\n",
    "pd_FaltantesID['Inventor'] = pd_FaltantesID['Inventor'].apply(\n",
    "    lambda x: ''.join([c for c in unicodedata.normalize('NFKD', x) if not unicodedata.combining(c)])\n",
    ")"
   ]
  },
  {
   "cell_type": "code",
   "execution_count": 39,
   "metadata": {},
   "outputs": [],
   "source": [
    "import re\n",
    "\n",
    "def normalize_name(name):\n",
    "    # Quitar comas, puntos y otros signos de puntuación\n",
    "    name_clean = re.sub(r'[^\\w\\s]', ' ', name)\n",
    "    # Convertir a minúsculas\n",
    "    name_clean = name_clean.lower()\n",
    "    # Separar en tokens, eliminar espacios extra y ordenar\n",
    "    tokens = sorted(name_clean.split())\n",
    "    # Juntar tokens en una cadena canónica\n",
    "    return \" \".join(tokens)\n",
    "\n",
    "# Normalizamos los nombres en ambos DataFrames\n",
    "pd_FaltantesID['normalized'] = pd_FaltantesID['Inventor'].apply(normalize_name)\n",
    "pd_Lista['normalized'] = pd_Lista['Nombre Inventor'].apply(normalize_name)\n",
    "\n",
    "# Ahora verificamos si no hay coincidencia en el DataFrame pd_Lista\n",
    "pd_FaltantesID['coincidencia'] = pd_FaltantesID['normalized'].apply(\n",
    "    lambda inv: inv not in pd_Lista['normalized'].values\n",
    ")"
   ]
  },
  {
   "cell_type": "code",
   "execution_count": 40,
   "metadata": {},
   "outputs": [],
   "source": [
    "# guardamos pd_FaltantesID\n",
    "pd_FaltantesID.to_excel('FaltantesDeID EXISTENTES.xlsx', index=False)"
   ]
  }
 ],
 "metadata": {
  "kernelspec": {
   "display_name": "PT_entorno",
   "language": "python",
   "name": "python3"
  },
  "language_info": {
   "codemirror_mode": {
    "name": "ipython",
    "version": 3
   },
   "file_extension": ".py",
   "mimetype": "text/x-python",
   "name": "python",
   "nbconvert_exporter": "python",
   "pygments_lexer": "ipython3",
   "version": "3.10.5"
  }
 },
 "nbformat": 4,
 "nbformat_minor": 2
}
