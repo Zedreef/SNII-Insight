{
 "cells": [
  {
   "cell_type": "code",
   "execution_count": 1,
   "metadata": {},
   "outputs": [],
   "source": [
    "import pandas as pd"
   ]
  },
  {
   "cell_type": "code",
   "execution_count": 2,
   "metadata": {},
   "outputs": [
    {
     "name": "stdout",
     "output_type": "stream",
     "text": []
    }
   ],
   "source": [
    "df_baseSNII = pd.read_csv('datasetF.csv')\n",
    "df_baseSNII"
   ]
  },
  {
   "cell_type": "code",
   "execution_count": 3,
   "metadata": {},
   "outputs": [
    {
     "name": "stdout",
     "output_type": "stream",
     "text": []
    }
   ],
   "source": [
    "df_basePATENTE = pd.read_csv('InventoresPatentes.csv')\n",
    "df_basePATENTE"
   ]
  },
  {
   "cell_type": "code",
   "execution_count": 4,
   "metadata": {},
   "outputs": [
    {
     "name": "stdout",
     "output_type": "stream",
     "text": []
    }
   ],
   "source": [
    "df_lista = pd.read_csv('Nombres_PxS.csv')\n",
    "df_lista"
   ]
  },
  {
   "cell_type": "code",
   "execution_count": 5,
   "metadata": {},
   "outputs": [
    {
     "name": "stdout",
     "output_type": "stream",
     "text": []
    }
   ],
   "source": [
    "df_idPatentes = pd.read_csv('id_Patentes.csv')\n",
    "df_idPatentes"
   ]
  },
  {
   "cell_type": "markdown",
   "metadata": {},
   "source": [
    "---"
   ]
  },
  {
   "cell_type": "code",
   "execution_count": 6,
   "metadata": {},
   "outputs": [
    {
     "name": "stdout",
     "output_type": "stream",
     "text": []
    }
   ],
   "source": [
    "# Vamos a aliminar la columna 'a' del df_idPatentes\n",
    "df_idPatentes.drop('a', axis=1, inplace=True)\n",
    "\n",
    "# Normalizamos los acentos,puntos, guion, y las letras que tengan diéresis como ö,en el 'df_idPatentes' en la columna 'Inventor'\n",
    "df_idPatentes['Inventor'] = df_idPatentes['Inventor'].str.normalize('NFKD').str.encode('ascii', errors='ignore').str.decode('utf-8')\n",
    "\n",
    "df_idPatentes"
   ]
  },
  {
   "cell_type": "code",
   "execution_count": 7,
   "metadata": {},
   "outputs": [
    {
     "name": "stdout",
     "output_type": "stream",
     "text": []
    }
   ],
   "source": [
    "# Vamos a hacer que se busque el nombre del inventor en la lista de nombres de la columna 'Inventor' del 'df_idPatentes' en la columna 'Inventor' del 'df_basePATENTE'\n",
    "# si se encuentra el nombre en la lista, se va a agregar una nueva columna en el 'df_basePATENTE' llamada 'inventor_id' con el id del inventor que se encontró en la lista\n",
    "df_basePATENTE['inventor_id'] = df_basePATENTE['Inventor'].apply(lambda x: df_idPatentes[df_idPatentes['Inventor'].str.contains(x, case=False, na=False)]['inventor_id'].values[0] if len(df_idPatentes[df_idPatentes['Inventor'].str.contains(x, case=False, na=False)]) > 0 else None)\n",
    "\n",
    "df_basePATENTE"
   ]
  },
  {
   "cell_type": "code",
   "execution_count": 10,
   "metadata": {},
   "outputs": [
    {
     "name": "stdout",
     "output_type": "stream",
     "text": []
    }
   ],
   "source": [
    "# Vamos a buscar en el 'df_lista' los nombres de los inventores que se encuentran en la columna 'NOMBRE_INVENTOR' del \n",
    "# 'df_basePATENTE' y si se encuentra el nombre en la lista, se va a agregar una nueva columna en el 'df_lista' \n",
    "# llamada 'inventor_id' con el id del inventor que se encontró en 'df_basePATENTE'\n",
    "df_lista['inventor_id'] = df_lista['NOMBRE_INVENTOR'].apply(lambda x: df_basePATENTE[df_basePATENTE['NOMBRE_INVENTOR'].str.contains(x, case=False, na=False)]['inventor_id'].values[0] if len(df_basePATENTE[df_basePATENTE['NOMBRE_INVENTOR'].str.contains(x, case=False, na=False)]) > 0 else None)\n",
    "\n",
    "df_lista"
   ]
  },
  {
   "cell_type": "code",
   "execution_count": 11,
   "metadata": {},
   "outputs": [],
   "source": [
    "# Vamos a buscar en el 'df_lista' los nombres de los inventores que se encuentran en la columna 'INVESTIGADOR' \n",
    "# del 'df_baseSNII' y si se encuentra el nombre en la lista, se va a agregar una nueva columna en el 'df_lista' \n",
    "# llamada 'CVU' con el id del inventor que se encontró en 'df_baseSNII'\n",
    "df_lista['CVU'] = df_lista['NOMBRE DEL INVESTIGADOR'].apply(lambda x: df_baseSNII[df_baseSNII['INVESTIGADOR'].str.contains(x, case=False, na=False)]['CVU'].values[0] if len(df_baseSNII[df_baseSNII['INVESTIGADOR'].str.contains(x, case=False, na=False)]) > 0 else None)\n",
    "\n",
    "df_lista"
   ]
  },
  {
   "cell_type": "code",
   "execution_count": null,
   "metadata": {},
   "outputs": [],
   "source": [
    "# guardamos el resultado en un archivo csv\n",
    "df_lista.to_csv('Nombres_PxS.csv', index=False)"
   ]
  }
 ],
 "metadata": {
  "kernelspec": {
   "display_name": "PT_entorno",
   "language": "python",
   "name": "python3"
  },
  "language_info": {
   "codemirror_mode": {
    "name": "ipython",
    "version": 3
   },
   "file_extension": ".py",
   "mimetype": "text/x-python",
   "name": "python",
   "nbconvert_exporter": "python",
   "pygments_lexer": "ipython3",
   "version": "3.10.5"
  }
 },
 "nbformat": 4,
 "nbformat_minor": 2
}
